{
  "nbformat": 4,
  "nbformat_minor": 0,
  "metadata": {
    "accelerator": "TPU",
    "colab": {
      "name": "Detect codeswitching",
      "provenance": [],
      "collapsed_sections": [],
      "toc_visible": true,
      "include_colab_link": true
    },
    "kernelspec": {
      "name": "python3",
      "display_name": "Python 3"
    }
  },
  "cells": [
    {
      "cell_type": "markdown",
      "metadata": {
        "id": "view-in-github",
        "colab_type": "text"
      },
      "source": [
        "<a href=\"https://colab.research.google.com/github/jaflo/word-unusuality/blob/master/detect_codeswitching.ipynb\" target=\"_parent\"><img src=\"https://colab.research.google.com/assets/colab-badge.svg\" alt=\"Open In Colab\"/></a>"
      ]
    },
    {
      "cell_type": "markdown",
      "metadata": {
        "id": "_qvpmcgZrixj",
        "colab_type": "text"
      },
      "source": [
        "# Automatic Identification of Intra-Word Code-Switching of German and English\n",
        "\n",
        "The system described below allows for identification of intra-word code-switching in a German-English mixed text without the need for training data with labels identifying intra-word code-switched words. The system is composed of a semi-supervised LSTM RNN and a language ratio filter.\n",
        "\n",
        "This notebook accompanies an unpublished paper. It has been made available to encourage reproduction of the documented results and processes. While the results leave room for improvement, the hope is that the availability of this code will result in future research in the area.\n",
        "\n",
        "## Execution environment\n",
        "\n",
        "This notebook is set up to run in [Google Colab](https://colab.research.google.com/) on [Cloud TPUs](https://cloud.google.com/tpu/). At time of writing, you can make use of these resources for no monetary charge.\n",
        "\n",
        "If you are viewing this in Colab, make sure that TPU usage is enabled for your runtime. You can do this by selecting Runtime > Change runtime type > Hardware accelerator > TPU. The code also persists data in your Google Drive in a top-level folder called Colab."
      ]
    },
    {
      "cell_type": "code",
      "metadata": {
        "cellView": "form",
        "colab_type": "code",
        "id": "KUu4vOt5zI9d",
        "colab": {}
      },
      "source": [
        "# This notebook is licensed under the MIT license. You should have received a\n",
        "# copy of the license with this notebook. If not, you can retrieve a copy here:\n",
        "# https://opensource.org/licenses/MIT\n",
        "\n",
        "# This notebook includes code from the the Cloud TPU reference notebook.\n",
        "# The original can be found here:\n",
        "# https://github.com/tensorflow/tpu/blob/master/tools/colab/shakespeare_with_tpu_and_keras.ipynb\n",
        "# Cells that use code from that notebook include a comment noting changes if any\n",
        "# were made. The reference notebook is licensed under the Apache License 2.0:\n",
        "\n",
        "# ==============================================================================\n",
        "# Copyright 2018 The TensorFlow Hub Authors. All Rights Reserved.\n",
        "#\n",
        "# Licensed under the Apache License, Version 2.0 (the \"License\");\n",
        "# you may not use this file except in compliance with the License.\n",
        "# You may obtain a copy of the License at\n",
        "#\n",
        "#     http://www.apache.org/licenses/LICENSE-2.0\n",
        "#\n",
        "# Unless required by applicable law or agreed to in writing, software\n",
        "# distributed under the License is distributed on an \"AS IS\" BASIS,\n",
        "# WITHOUT WARRANTIES OR CONDITIONS OF ANY KIND, either express or implied.\n",
        "# See the License for the specific language governing permissions and\n",
        "# limitations under the License.\n",
        "# =============================================================================="
      ],
      "execution_count": 0,
      "outputs": []
    },
    {
      "cell_type": "markdown",
      "metadata": {
        "id": "g8rxlPbLriQs",
        "colab_type": "text"
      },
      "source": [
        "## Setup\n",
        "\n",
        "* Connects to Google Drive\n",
        "* Installs dictionaries\n",
        "* Installs Python libraries\n",
        "* Imports a bunch of stuff\n",
        "* Configures matplotlib"
      ]
    },
    {
      "cell_type": "code",
      "metadata": {
        "id": "TMaPuqT282IM",
        "colab_type": "code",
        "outputId": "9d58a996-a3d0-4f64-cb94-abac56b4b1f6",
        "colab": {
          "base_uri": "https://localhost:8080/",
          "height": 1000
        }
      },
      "source": [
        "from google.colab import drive\n",
        "drive.mount('/content/drive')\n",
        "\n",
        "!apt-get install enchant myspell-de-de\n",
        "!pip install pyenchant\n",
        "!pip install -U morfessor\n",
        "\n",
        "from collections import Counter\n",
        "import enchant\n",
        "import os\n",
        "import math\n",
        "import distutils\n",
        "import random\n",
        "import re\n",
        "import csv\n",
        "import matplotlib.pyplot as plt\n",
        "\n",
        "import numpy as np\n",
        "from sklearn.cluster import KMeans\n",
        "from sklearn.metrics import classification_report\n",
        "from sklearn.metrics import f1_score\n",
        "from tqdm import tqdm\n",
        "import morfessor\n",
        "from nltk.metrics.agreement import AnnotationTask\n",
        "\n",
        "import tensorflow as tf\n",
        "if distutils.version.LooseVersion(tf.__version__) < '1.14':\n",
        "    raise Exception('This notebook is compatible with TensorFlow 1.14 or higher, for TensorFlow 1.13 or lower please use the previous version at https://github.com/tensorflow/tpu/blob/r1.13/tools/colab/shakespeare_with_tpu_and_keras.ipynb')\n",
        "TPU_WORKER = 'grpc://' + os.environ['COLAB_TPU_ADDR']\n",
        "\n",
        "%matplotlib inline\n",
        "%config InlineBackend.figure_format = 'retina'"
      ],
      "execution_count": 0,
      "outputs": [
        {
          "output_type": "stream",
          "text": [
            "Go to this URL in a browser: https://accounts.google.com/o/oauth2/auth?client_id=947318989803-6bn6qk8qdgf4n4g3pfee6491hc0brc4i.apps.googleusercontent.com&redirect_uri=urn%3aietf%3awg%3aoauth%3a2.0%3aoob&response_type=code&scope=email%20https%3a%2f%2fwww.googleapis.com%2fauth%2fdocs.test%20https%3a%2f%2fwww.googleapis.com%2fauth%2fdrive%20https%3a%2f%2fwww.googleapis.com%2fauth%2fdrive.photos.readonly%20https%3a%2f%2fwww.googleapis.com%2fauth%2fpeopleapi.readonly\n",
            "\n",
            "Enter your authorization code:\n",
            "··········\n",
            "Mounted at /content/drive\n",
            "Reading package lists... Done\n",
            "Building dependency tree       \n",
            "Reading state information... Done\n",
            "The following additional packages will be installed:\n",
            "  aspell aspell-en dictionaries-common emacsen-common hunspell-de-de\n",
            "  libaspell15 libenchant1c2a libhunspell-1.6-0 libtext-iconv-perl\n",
            "Suggested packages:\n",
            "  aspell-doc spellutils wordlist hunspell libreoffice-writer libenchant-voikko\n",
            "The following NEW packages will be installed:\n",
            "  aspell aspell-en dictionaries-common emacsen-common enchant hunspell-de-de\n",
            "  libaspell15 libenchant1c2a libhunspell-1.6-0 libtext-iconv-perl\n",
            "  myspell-de-de\n",
            "0 upgraded, 11 newly installed, 0 to remove and 29 not upgraded.\n",
            "Need to get 1,428 kB of archives.\n",
            "After this operation, 5,953 kB of additional disk space will be used.\n",
            "Get:1 http://archive.ubuntu.com/ubuntu bionic/main amd64 libtext-iconv-perl amd64 1.7-5build6 [13.0 kB]\n",
            "Get:2 http://archive.ubuntu.com/ubuntu bionic-updates/main amd64 libaspell15 amd64 0.60.7~20110707-4ubuntu0.1 [309 kB]\n",
            "Get:3 http://archive.ubuntu.com/ubuntu bionic/main amd64 emacsen-common all 2.0.8 [17.6 kB]\n",
            "Get:4 http://archive.ubuntu.com/ubuntu bionic/main amd64 dictionaries-common all 1.27.2 [186 kB]\n",
            "Get:5 http://archive.ubuntu.com/ubuntu bionic-updates/main amd64 aspell amd64 0.60.7~20110707-4ubuntu0.1 [87.6 kB]\n",
            "Get:6 http://archive.ubuntu.com/ubuntu bionic/main amd64 aspell-en all 2017.08.24-0-0.1 [298 kB]\n",
            "Get:7 http://archive.ubuntu.com/ubuntu bionic/main amd64 hunspell-de-de all 20161207-4 [284 kB]\n",
            "Get:8 http://archive.ubuntu.com/ubuntu bionic/main amd64 libhunspell-1.6-0 amd64 1.6.2-1 [154 kB]\n",
            "Get:9 http://archive.ubuntu.com/ubuntu bionic/main amd64 libenchant1c2a amd64 1.6.0-11.1 [64.4 kB]\n",
            "Get:10 http://archive.ubuntu.com/ubuntu bionic/main amd64 enchant amd64 1.6.0-11.1 [12.2 kB]\n",
            "Get:11 http://archive.ubuntu.com/ubuntu bionic/universe amd64 myspell-de-de all 20161207-4 [2,708 B]\n",
            "Fetched 1,428 kB in 5s (288 kB/s)\n",
            "Preconfiguring packages ...\n",
            "Selecting previously unselected package libtext-iconv-perl.\n",
            "(Reading database ... 134923 files and directories currently installed.)\n",
            "Preparing to unpack .../00-libtext-iconv-perl_1.7-5build6_amd64.deb ...\n",
            "Unpacking libtext-iconv-perl (1.7-5build6) ...\n",
            "Selecting previously unselected package libaspell15:amd64.\n",
            "Preparing to unpack .../01-libaspell15_0.60.7~20110707-4ubuntu0.1_amd64.deb ...\n",
            "Unpacking libaspell15:amd64 (0.60.7~20110707-4ubuntu0.1) ...\n",
            "Selecting previously unselected package emacsen-common.\n",
            "Preparing to unpack .../02-emacsen-common_2.0.8_all.deb ...\n",
            "Unpacking emacsen-common (2.0.8) ...\n",
            "Selecting previously unselected package dictionaries-common.\n",
            "Preparing to unpack .../03-dictionaries-common_1.27.2_all.deb ...\n",
            "Adding 'diversion of /usr/share/dict/words to /usr/share/dict/words.pre-dictionaries-common by dictionaries-common'\n",
            "Unpacking dictionaries-common (1.27.2) ...\n",
            "Selecting previously unselected package aspell.\n",
            "Preparing to unpack .../04-aspell_0.60.7~20110707-4ubuntu0.1_amd64.deb ...\n",
            "Unpacking aspell (0.60.7~20110707-4ubuntu0.1) ...\n",
            "Selecting previously unselected package aspell-en.\n",
            "Preparing to unpack .../05-aspell-en_2017.08.24-0-0.1_all.deb ...\n",
            "Unpacking aspell-en (2017.08.24-0-0.1) ...\n",
            "Selecting previously unselected package hunspell-de-de.\n",
            "Preparing to unpack .../06-hunspell-de-de_20161207-4_all.deb ...\n",
            "Unpacking hunspell-de-de (20161207-4) ...\n",
            "Selecting previously unselected package libhunspell-1.6-0:amd64.\n",
            "Preparing to unpack .../07-libhunspell-1.6-0_1.6.2-1_amd64.deb ...\n",
            "Unpacking libhunspell-1.6-0:amd64 (1.6.2-1) ...\n",
            "Selecting previously unselected package libenchant1c2a:amd64.\n",
            "Preparing to unpack .../08-libenchant1c2a_1.6.0-11.1_amd64.deb ...\n",
            "Unpacking libenchant1c2a:amd64 (1.6.0-11.1) ...\n",
            "Selecting previously unselected package enchant.\n",
            "Preparing to unpack .../09-enchant_1.6.0-11.1_amd64.deb ...\n",
            "Unpacking enchant (1.6.0-11.1) ...\n",
            "Selecting previously unselected package myspell-de-de.\n",
            "Preparing to unpack .../10-myspell-de-de_20161207-4_all.deb ...\n",
            "Unpacking myspell-de-de (20161207-4) ...\n",
            "Setting up libhunspell-1.6-0:amd64 (1.6.2-1) ...\n",
            "Setting up libaspell15:amd64 (0.60.7~20110707-4ubuntu0.1) ...\n",
            "Setting up emacsen-common (2.0.8) ...\n",
            "Processing triggers for libc-bin (2.27-3ubuntu1) ...\n",
            "Setting up libtext-iconv-perl (1.7-5build6) ...\n",
            "Processing triggers for man-db (2.8.3-2ubuntu0.1) ...\n",
            "Setting up dictionaries-common (1.27.2) ...\n",
            "Setting up aspell (0.60.7~20110707-4ubuntu0.1) ...\n",
            "Setting up hunspell-de-de (20161207-4) ...\n",
            "Setting up myspell-de-de (20161207-4) ...\n",
            "Setting up aspell-en (2017.08.24-0-0.1) ...\n",
            "Setting up libenchant1c2a:amd64 (1.6.0-11.1) ...\n",
            "Setting up enchant (1.6.0-11.1) ...\n",
            "Processing triggers for dictionaries-common (1.27.2) ...\n",
            "aspell-autobuildhash: processing: en [en-common].\n",
            "aspell-autobuildhash: processing: en [en-variant_0].\n",
            "aspell-autobuildhash: processing: en [en-variant_1].\n",
            "aspell-autobuildhash: processing: en [en-variant_2].\n",
            "aspell-autobuildhash: processing: en [en-w_accents-only].\n",
            "aspell-autobuildhash: processing: en [en-wo_accents-only].\n",
            "aspell-autobuildhash: processing: en [en_AU-variant_0].\n",
            "aspell-autobuildhash: processing: en [en_AU-variant_1].\n",
            "aspell-autobuildhash: processing: en [en_AU-w_accents-only].\n",
            "aspell-autobuildhash: processing: en [en_AU-wo_accents-only].\n",
            "aspell-autobuildhash: processing: en [en_CA-variant_0].\n",
            "aspell-autobuildhash: processing: en [en_CA-variant_1].\n",
            "aspell-autobuildhash: processing: en [en_CA-w_accents-only].\n",
            "aspell-autobuildhash: processing: en [en_CA-wo_accents-only].\n",
            "aspell-autobuildhash: processing: en [en_GB-ise-w_accents-only].\n",
            "aspell-autobuildhash: processing: en [en_GB-ise-wo_accents-only].\n",
            "aspell-autobuildhash: processing: en [en_GB-ize-w_accents-only].\n",
            "aspell-autobuildhash: processing: en [en_GB-ize-wo_accents-only].\n",
            "aspell-autobuildhash: processing: en [en_GB-variant_0].\n",
            "aspell-autobuildhash: processing: en [en_GB-variant_1].\n",
            "aspell-autobuildhash: processing: en [en_US-w_accents-only].\n",
            "aspell-autobuildhash: processing: en [en_US-wo_accents-only].\n",
            "Processing triggers for libc-bin (2.27-3ubuntu1) ...\n",
            "Collecting pyenchant\n",
            "\u001b[?25l  Downloading https://files.pythonhosted.org/packages/9e/54/04d88a59efa33fefb88133ceb638cdf754319030c28aadc5a379d82140ed/pyenchant-2.0.0.tar.gz (64kB)\n",
            "\u001b[K     |████████████████████████████████| 71kB 2.7MB/s \n",
            "\u001b[?25hBuilding wheels for collected packages: pyenchant\n",
            "  Building wheel for pyenchant (setup.py) ... \u001b[?25l\u001b[?25hdone\n",
            "  Created wheel for pyenchant: filename=pyenchant-2.0.0-cp36-none-any.whl size=71113 sha256=d82f2e8760752bccc132698a3024dc54bef695d6576aabacc00ff43952181909\n",
            "  Stored in directory: /root/.cache/pip/wheels/ee/8e/01/f427e9c6c0ae5e22095f3d2aac8997abe7b317307a9de497f4\n",
            "Successfully built pyenchant\n",
            "Installing collected packages: pyenchant\n",
            "Successfully installed pyenchant-2.0.0\n",
            "Collecting morfessor\n",
            "  Downloading https://files.pythonhosted.org/packages/39/e6/7afea30be2ee4d29ce9de0fa53acbb033163615f849515c0b1956ad074ee/Morfessor-2.0.6-py3-none-any.whl\n",
            "Installing collected packages: morfessor\n",
            "Successfully installed morfessor-2.0.6\n"
          ],
          "name": "stdout"
        }
      ]
    },
    {
      "cell_type": "markdown",
      "metadata": {
        "id": "VxCDuCsNsgw_",
        "colab_type": "text"
      },
      "source": [
        "### Download language data\n",
        "\n",
        "This downloads\n",
        "\n",
        "* German and English Wikipedia data from Leipzig Corpora: http://wortschatz.uni-leipzig.de/en/download/\n",
        "* Lists of German words for Morfessor: http://morpho.aalto.fi/events/morphochallenge2010/datasets.shtml\n",
        "* List of German nouns: https://github.com/gambolputty/german-nouns"
      ]
    },
    {
      "cell_type": "code",
      "metadata": {
        "id": "MT_0dAVmygDr",
        "colab_type": "code",
        "outputId": "c5a4f6cd-2334-4d95-f22e-243d218f6798",
        "colab": {
          "base_uri": "https://localhost:8080/",
          "height": 887
        }
      },
      "source": [
        "# http://wortschatz.uni-leipzig.de/en/download/ 10K - 1M\n",
        "\n",
        "!wget --show-progress -nc --continue -P /content http://pcai056.informatik.uni-leipzig.de/downloads/corpora/deu_wikipedia_2016_1M.tar.gz\n",
        "!wget --show-progress -nc --continue -P /content http://pcai056.informatik.uni-leipzig.de/downloads/corpora/eng_wikipedia_2016_1M.tar.gz\n",
        "\n",
        "!for i in /content/*.tar.gz; do tar -xvf $i ; done\n",
        "!wc -l /content/*_*_20*/*-sentences.txt\n",
        "\n",
        "# http://morpho.aalto.fi/events/morphochallenge2010/datasets.shtml\n",
        "\n",
        "!wget --show-progress -nc --continue -P /content http://morpho.aalto.fi/events/morphochallenge2010/data/wordlist-2010.ger\n",
        "\n",
        "# https://github.com/gambolputty/german-nouns\n",
        "\n",
        "!wget --show-progress -nc --continue -P /content https://raw.githubusercontent.com/gambolputty/german-nouns/master/nouns.csv\n",
        "\n",
        "deu_nouns = set()\n",
        "\n",
        "with open('nouns.csv') as csv_file:\n",
        "  csv_reader = csv.reader(csv_file, delimiter=',')\n",
        "  header = True\n",
        "  for row in csv_reader:\n",
        "    if not header:\n",
        "      deu_nouns.add(row[0])\n",
        "    header = False\n",
        "\n",
        "len(deu_nouns)"
      ],
      "execution_count": 0,
      "outputs": [
        {
          "output_type": "stream",
          "text": [
            "--2019-11-19 03:59:49--  http://pcai056.informatik.uni-leipzig.de/downloads/corpora/deu_wikipedia_2016_1M.tar.gz\n",
            "Resolving pcai056.informatik.uni-leipzig.de (pcai056.informatik.uni-leipzig.de)... 139.18.2.216\n",
            "Connecting to pcai056.informatik.uni-leipzig.de (pcai056.informatik.uni-leipzig.de)|139.18.2.216|:80... connected.\n",
            "HTTP request sent, awaiting response... 200 OK\n",
            "Length: 239079561 (228M) [application/x-gzip]\n",
            "Saving to: ‘/content/deu_wikipedia_2016_1M.tar.gz’\n",
            "\n",
            "deu_wikipedia_2016_ 100%[===================>] 228.00M  23.8MB/s    in 11s     \n",
            "\n",
            "2019-11-19 04:00:00 (21.7 MB/s) - ‘/content/deu_wikipedia_2016_1M.tar.gz’ saved [239079561/239079561]\n",
            "\n",
            "--2019-11-19 04:00:00--  http://pcai056.informatik.uni-leipzig.de/downloads/corpora/eng_wikipedia_2016_1M.tar.gz\n",
            "Resolving pcai056.informatik.uni-leipzig.de (pcai056.informatik.uni-leipzig.de)... 139.18.2.216\n",
            "Connecting to pcai056.informatik.uni-leipzig.de (pcai056.informatik.uni-leipzig.de)|139.18.2.216|:80... connected.\n",
            "HTTP request sent, awaiting response... 404 Not Found\n",
            "2019-11-19 04:00:00 ERROR 404: Not Found.\n",
            "\n",
            "deu_wikipedia_2016_1M/\n",
            "deu_wikipedia_2016_1M/deu_wikipedia_2016_1M-inv_so.txt\n",
            "deu_wikipedia_2016_1M/deu_wikipedia_2016_1M-sources.txt\n",
            "deu_wikipedia_2016_1M/deu_wikipedia_2016_1M-co_n.txt\n",
            "deu_wikipedia_2016_1M/deu_wikipedia_2016_1M-sentences.txt\n",
            "deu_wikipedia_2016_1M/deu_wikipedia_2016_1M-inv_w.txt\n",
            "deu_wikipedia_2016_1M/deu_wikipedia_2016_1M-co_s.txt\n",
            "deu_wikipedia_2016_1M/deu_wikipedia_2016_1M-words.txt\n",
            "deu_wikipedia_2016_1M/deu_wikipedia_2016_1M-import.sql\n",
            "1000000 /content/deu_wikipedia_2016_1M/deu_wikipedia_2016_1M-sentences.txt\n",
            "--2019-11-19 04:00:08--  http://morpho.aalto.fi/events/morphochallenge2010/data/wordlist-2010.ger\n",
            "Resolving morpho.aalto.fi (morpho.aalto.fi)... 130.233.240.31\n",
            "Connecting to morpho.aalto.fi (morpho.aalto.fi)|130.233.240.31|:80... connected.\n",
            "HTTP request sent, awaiting response... 200 OK\n",
            "Length: 40199206 (38M)\n",
            "Saving to: ‘/content/wordlist-2010.ger’\n",
            "\n",
            "wordlist-2010.ger   100%[===================>]  38.34M  10.1MB/s    in 3.8s    \n",
            "\n",
            "2019-11-19 04:00:13 (10.1 MB/s) - ‘/content/wordlist-2010.ger’ saved [40199206/40199206]\n",
            "\n",
            "--2019-11-19 04:00:13--  https://raw.githubusercontent.com/gambolputty/german-nouns/master/nouns.csv\n",
            "Resolving raw.githubusercontent.com (raw.githubusercontent.com)... 151.101.0.133, 151.101.64.133, 151.101.128.133, ...\n",
            "Connecting to raw.githubusercontent.com (raw.githubusercontent.com)|151.101.0.133|:443... connected.\n",
            "HTTP request sent, awaiting response... 200 OK\n",
            "Length: 16142984 (15M) [text/plain]\n",
            "Saving to: ‘/content/nouns.csv’\n",
            "\n",
            "nouns.csv           100%[===================>]  15.39M  --.-KB/s    in 0.1s    \n",
            "\n",
            "2019-11-19 04:00:14 (108 MB/s) - ‘/content/nouns.csv’ saved [16142984/16142984]\n",
            "\n"
          ],
          "name": "stdout"
        },
        {
          "output_type": "execute_result",
          "data": {
            "text/plain": [
              "81214"
            ]
          },
          "metadata": {
            "tags": []
          },
          "execution_count": 3
        }
      ]
    },
    {
      "cell_type": "markdown",
      "metadata": {
        "id": "-Gm14cLnx3pj",
        "colab_type": "text"
      },
      "source": [
        "### Train Morfessor\n",
        "\n",
        "Trains Morfessor if needed, which can take a while."
      ]
    },
    {
      "cell_type": "code",
      "metadata": {
        "id": "XDbNpM3Ax0xq",
        "colab_type": "code",
        "colab": {}
      },
      "source": [
        "![ -f \"/content/drive/My Drive/Colab/deu_morfessor_model.bin\" ] || morfessor-train --encoding=ISO_8859-15 --traindata-list --logfile=log.log -s \"/content/drive/My Drive/Colab/deu_morfessor_model.bin\" -d ones /content/wordlist-2010.ger\n",
        "\n",
        "io = morfessor.MorfessorIO()\n",
        "model = io.read_binary_model_file('/content/drive/My Drive/Colab/deu_morfessor_model.bin')"
      ],
      "execution_count": 0,
      "outputs": []
    },
    {
      "cell_type": "markdown",
      "metadata": {
        "id": "5K83taIpx-DE",
        "colab_type": "text"
      },
      "source": [
        "### Transform functions\n",
        "\n",
        "Some helpful functions from the reference notebook."
      ]
    },
    {
      "cell_type": "code",
      "metadata": {
        "colab_type": "code",
        "id": "E3V4V-Jxmuv3",
        "colab": {}
      },
      "source": [
        "# From reference notebook\n",
        "\n",
        "def transform(txt):\n",
        "  return np.asarray([ord(c) for c in txt if ord(c) < 255], dtype=np.int32)\n",
        "\n",
        "def input_fn(corpus_file, seq_len=100, batch_size=1024):\n",
        "  \"\"\"Return a dataset of source and target sequences for training.\"\"\"\n",
        "  with tf.io.gfile.GFile(corpus_file, 'r') as f:\n",
        "    txt = f.read()\n",
        "\n",
        "  txt = \" \".join([line.split(\"\\t\", maxsplit=1)[1] for line in txt.split(\"\\n\") if \"\\t\" in line])\n",
        "\n",
        "  source = tf.constant(transform(txt), dtype=tf.int32)\n",
        "\n",
        "  ds = tf.data.Dataset.from_tensor_slices(source).batch(seq_len+1, drop_remainder=True)\n",
        "\n",
        "  def split_input_target(chunk):\n",
        "    input_text = chunk[:-1]\n",
        "    target_text = chunk[1:]\n",
        "    return input_text, target_text\n",
        "\n",
        "  BUFFER_SIZE = 10000\n",
        "  ds = ds.map(split_input_target).shuffle(BUFFER_SIZE).batch(batch_size, drop_remainder=True)\n",
        "\n",
        "  return ds.repeat()"
      ],
      "execution_count": 0,
      "outputs": []
    },
    {
      "cell_type": "markdown",
      "metadata": {
        "colab_type": "text",
        "id": "Bbb05dNynDrQ"
      },
      "source": [
        "### Build the model\n",
        "\n",
        "The model is defined as a two-layer, forward-LSTM, the same model should work both on CPU and TPU."
      ]
    },
    {
      "cell_type": "code",
      "metadata": {
        "colab_type": "code",
        "id": "yLEM-fLJlEEt",
        "colab": {}
      },
      "source": [
        "# From reference notebook, adds a dropout layer\n",
        "\n",
        "EMBEDDING_DIM = 512\n",
        "\n",
        "def lstm_model(seq_len=100, batch_size=None, stateful=True):\n",
        "  \"\"\"Language model: predict the next word given the current word.\"\"\"\n",
        "  source = tf.keras.Input(\n",
        "      name='seed', shape=(seq_len,), batch_size=batch_size, dtype=tf.int32)\n",
        "\n",
        "  embedding = tf.keras.layers.Embedding(input_dim=256, output_dim=EMBEDDING_DIM)(source)\n",
        "  lstm_1 = tf.keras.layers.LSTM(EMBEDDING_DIM, stateful=stateful, return_sequences=True)(embedding)\n",
        "  lstm_2 = tf.keras.layers.LSTM(EMBEDDING_DIM, stateful=stateful, return_sequences=True)(lstm_1)\n",
        "  dropout = tf.keras.layers.Dropout(0.5)(lstm_2)\n",
        "  predicted_char = tf.keras.layers.TimeDistributed(tf.keras.layers.Dense(256, activation='softmax'))(dropout)\n",
        "\n",
        "  return tf.keras.Model(inputs=[source], outputs=[predicted_char])"
      ],
      "execution_count": 0,
      "outputs": []
    },
    {
      "cell_type": "markdown",
      "metadata": {
        "colab_type": "text",
        "id": "VzBYDJI0_Tfm"
      },
      "source": [
        "### Train the model\n",
        "\n",
        "Sets up the TPUs and defines a function to train and save the model."
      ]
    },
    {
      "cell_type": "code",
      "metadata": {
        "id": "SFTtZb6l9kFc",
        "colab_type": "code",
        "outputId": "8e64883a-6269-40a3-bb8a-cdc4bac200cd",
        "colab": {
          "base_uri": "https://localhost:8080/",
          "height": 496
        }
      },
      "source": [
        "# From reference notebook\n",
        "\n",
        "print(\"Setting up TPUs...\")\n",
        "tf.keras.backend.clear_session()\n",
        "\n",
        "resolver = tf.contrib.cluster_resolver.TPUClusterResolver(TPU_WORKER)\n",
        "tf.contrib.distribute.initialize_tpu_system(resolver)\n",
        "strategy = tf.contrib.distribute.TPUStrategy(resolver)\n",
        "\n",
        "# Wraps code from reference, changed number of epochs\n",
        "\n",
        "def train_model(corpus_file, model_dest):\n",
        "  print(\"Compiling model...\")\n",
        "  with strategy.scope():\n",
        "    training_model = lstm_model(seq_len=100, stateful=False)\n",
        "    training_model.summary()\n",
        "    training_model.compile(\n",
        "        optimizer=tf.keras.optimizers.RMSprop(learning_rate=0.01),\n",
        "        loss='sparse_categorical_crossentropy',\n",
        "        metrics=['sparse_categorical_accuracy'])\n",
        "\n",
        "  print(\"Starting training using %s...\" % corpus_file)\n",
        "  training_model.fit(\n",
        "    input_fn(corpus_file),\n",
        "    steps_per_epoch=100,\n",
        "    epochs=30\n",
        "  )\n",
        "\n",
        "  print(\"Saving model to %s...\" % model_dest)\n",
        "  training_model.save_weights(model_dest, overwrite=True)\n",
        "\n",
        "  return training_model"
      ],
      "execution_count": 0,
      "outputs": [
        {
          "output_type": "stream",
          "text": [
            "Setting up TPUs...\n",
            "WARNING:tensorflow:\n",
            "The TensorFlow contrib module will not be included in TensorFlow 2.0.\n",
            "For more information, please see:\n",
            "  * https://github.com/tensorflow/community/blob/master/rfcs/20180907-contrib-sunset.md\n",
            "  * https://github.com/tensorflow/addons\n",
            "  * https://github.com/tensorflow/io (for I/O related ops)\n",
            "If you depend on functionality not listed there, please file an issue.\n",
            "\n",
            "INFO:tensorflow:Initializing the TPU system: 10.105.206.2:8470\n",
            "INFO:tensorflow:Finished initializing TPU system.\n",
            "INFO:tensorflow:Querying Tensorflow master (grpc://10.105.206.2:8470) for TPU system metadata.\n",
            "INFO:tensorflow:Found TPU system:\n",
            "INFO:tensorflow:*** Num TPU Cores: 8\n",
            "INFO:tensorflow:*** Num TPU Workers: 1\n",
            "INFO:tensorflow:*** Num TPU Cores Per Worker: 8\n",
            "INFO:tensorflow:*** Available Device: _DeviceAttributes(/job:worker/replica:0/task:0/device:CPU:0, CPU, -1, 9657048963938183205)\n",
            "INFO:tensorflow:*** Available Device: _DeviceAttributes(/job:worker/replica:0/task:0/device:TPU:0, TPU, 17179869184, 6384234170576685409)\n",
            "INFO:tensorflow:*** Available Device: _DeviceAttributes(/job:worker/replica:0/task:0/device:TPU:1, TPU, 17179869184, 18260093582881489525)\n",
            "INFO:tensorflow:*** Available Device: _DeviceAttributes(/job:worker/replica:0/task:0/device:TPU:2, TPU, 17179869184, 12484401697964119600)\n",
            "INFO:tensorflow:*** Available Device: _DeviceAttributes(/job:worker/replica:0/task:0/device:TPU:3, TPU, 17179869184, 12929095286696320710)\n",
            "INFO:tensorflow:*** Available Device: _DeviceAttributes(/job:worker/replica:0/task:0/device:TPU:4, TPU, 17179869184, 11217238033334631940)\n",
            "INFO:tensorflow:*** Available Device: _DeviceAttributes(/job:worker/replica:0/task:0/device:TPU:5, TPU, 17179869184, 945201856205841140)\n",
            "INFO:tensorflow:*** Available Device: _DeviceAttributes(/job:worker/replica:0/task:0/device:TPU:6, TPU, 17179869184, 14980339217822143631)\n",
            "INFO:tensorflow:*** Available Device: _DeviceAttributes(/job:worker/replica:0/task:0/device:TPU:7, TPU, 17179869184, 8562989881916670793)\n",
            "INFO:tensorflow:*** Available Device: _DeviceAttributes(/job:worker/replica:0/task:0/device:TPU_SYSTEM:0, TPU_SYSTEM, 8589934592, 15540489303978544957)\n",
            "INFO:tensorflow:*** Available Device: _DeviceAttributes(/job:worker/replica:0/task:0/device:XLA_CPU:0, XLA_CPU, 17179869184, 17141127717910835725)\n"
          ],
          "name": "stdout"
        }
      ]
    },
    {
      "cell_type": "code",
      "metadata": {
        "id": "jweB3KZmyWlT",
        "colab_type": "code",
        "colab": {}
      },
      "source": [
        "# From reference, only runs one batch\n",
        "\n",
        "def load_model(model_weight_file):\n",
        "  print(\"Loading model from %s...\" % model_weight_file)\n",
        "  # Keras requires the batch size be specified ahead of time for stateful models.\n",
        "  # We use a sequence length of 1, as we will be feeding in one character at a \n",
        "  # time and predicting the next character.\n",
        "  prediction_model = lstm_model(seq_len=1, batch_size=1, stateful=True)\n",
        "  prediction_model.load_weights(model_weight_file)\n",
        "  return prediction_model"
      ],
      "execution_count": 0,
      "outputs": []
    },
    {
      "cell_type": "markdown",
      "metadata": {
        "colab_type": "text",
        "id": "TCBtcpZkykSf"
      },
      "source": [
        "## Find character probabilities\n",
        "\n",
        "Loads the models or trains one if needed. Uses the trained model to make predictions of a given character being the next character."
      ]
    },
    {
      "cell_type": "code",
      "metadata": {
        "id": "83HH99gV-S3g",
        "colab_type": "code",
        "outputId": "9421fe27-baea-45bc-c0e8-ff8ed7ef08af",
        "colab": {
          "base_uri": "https://localhost:8080/",
          "height": 173
        }
      },
      "source": [
        "models = {}\n",
        "langs = [\"deu\", \"eng\"]\n",
        "\n",
        "for lang in langs:\n",
        "  model_weights = '/content/drive/My Drive/Colab/%s_weights.h5' % lang\n",
        "  if not os.path.isfile(model_weights):\n",
        "    train_model('/content/%s_wikipedia_2016_1M/%s_wikipedia_2016_1M-sentences.txt' % (lang, lang), model_weights)\n",
        "  models[lang] = load_model(model_weights)"
      ],
      "execution_count": 0,
      "outputs": [
        {
          "output_type": "stream",
          "text": [
            "Loading model from /content/drive/My Drive/Colab/deu_weights.h5...\n",
            "WARNING:tensorflow:From /usr/local/lib/python3.6/dist-packages/tensorflow_core/python/keras/initializers.py:119: calling RandomUniform.__init__ (from tensorflow.python.ops.init_ops) with dtype is deprecated and will be removed in a future version.\n",
            "Instructions for updating:\n",
            "Call initializer instance with the dtype argument instead of passing it to the constructor\n",
            "WARNING:tensorflow:From /usr/local/lib/python3.6/dist-packages/tensorflow_core/python/ops/resource_variable_ops.py:1630: calling BaseResourceVariable.__init__ (from tensorflow.python.ops.resource_variable_ops) with constraint is deprecated and will be removed in a future version.\n",
            "Instructions for updating:\n",
            "If using Keras pass *_constraint arguments to layers.\n",
            "Loading model from /content/drive/My Drive/Colab/eng_weights.h5...\n"
          ],
          "name": "stdout"
        }
      ]
    },
    {
      "cell_type": "code",
      "metadata": {
        "id": "koEwpN6kX23e",
        "colab_type": "code",
        "colab": {}
      },
      "source": [
        "def get_random_text(lang, line_count=200):\n",
        "  corpus_file = '/content/%s_wikipedia_2016_1M/%s_wikipedia_2016_1M-sentences.txt' % (lang, lang)\n",
        "\n",
        "  with tf.io.gfile.GFile(corpus_file, 'r') as f:\n",
        "    txt = f.read()\n",
        "\n",
        "  lines = [line.split(\"\\t\", maxsplit=1)[1] for line in txt.split(\"\\n\") if \"\\t\" in line]\n",
        "  random.shuffle(lines)\n",
        "  return \" \".join(lines[:line_count]) + \" \""
      ],
      "execution_count": 0,
      "outputs": []
    },
    {
      "cell_type": "code",
      "metadata": {
        "id": "12t_AkPUfVeV",
        "colab_type": "code",
        "colab": {}
      },
      "source": [
        "# From reference, seeds with spaces always, constant batch size, collect probabilities instead of generating text\n",
        "\n",
        "def get_char_probabilites(prediction_model, test_text):\n",
        "  # We seed the model with our initial string, copied BATCH_SIZE times\n",
        "  seed_txt = \" \"\n",
        "  seed = transform(seed_txt)\n",
        "  seed = np.repeat(np.expand_dims(seed, 0), 1, axis=0)\n",
        "\n",
        "  test = transform(test_text)\n",
        "\n",
        "  # First, run the seed forward to prime the state of the model.\n",
        "  prediction_model.reset_states()\n",
        "  for i in range(len(seed_txt) - 1):\n",
        "    prediction_model.predict(seed[:, i:i + 1])\n",
        "\n",
        "  # Now we can accumulate predictions!\n",
        "  probabilities = []\n",
        "  for i, codepoint in enumerate(test):\n",
        "    last_word = [np.repeat(test[i-1], 1, axis=0)] if i > 0 else seed[:, -1:]\n",
        "    next_probits = prediction_model.predict(last_word)[:, 0, :]\n",
        "\n",
        "    # get this chars probability from the distribution\n",
        "    probabilities.append(next_probits[0][codepoint])\n",
        "\n",
        "  return probabilities"
      ],
      "execution_count": 0,
      "outputs": []
    },
    {
      "cell_type": "markdown",
      "metadata": {
        "id": "zhE7aEE4-oUK",
        "colab_type": "text"
      },
      "source": [
        "## Find word unusuality\n",
        "\n",
        "Let $p_i$ be the probability of the $i$-th character of a word of length $n$ as predicted by the model. Then the unusuality of an entire word is:\n",
        "\n",
        "$$-\\sqrt{n}\\log\\left(\\prod_{i=1}^{n} p_i\\right)$$\n",
        "\n",
        "which is equal to:\n",
        "\n",
        "$$-\\sqrt{n}\\sum_{i=1}^{n} \\log\\left(p_i\\right)$$\n"
      ]
    },
    {
      "cell_type": "code",
      "metadata": {
        "id": "2-nLNoaxos0W",
        "colab_type": "code",
        "colab": {}
      },
      "source": [
        "def standard_unusuality_measure(char_probs):\n",
        "  product = 1\n",
        "  for p in char_probs:\n",
        "    product *= p\n",
        "  return -math.log(product) * math.sqrt(len(char_probs))\n",
        "\n",
        "def get_word_probs(test_text, probabilities, measure=standard_unusuality_measure):\n",
        "  total_p = 1\n",
        "  word = \"\"\n",
        "\n",
        "  words = []\n",
        "  word_probs = []\n",
        "  char_probs = []\n",
        "\n",
        "  for i, (c, p) in enumerate(zip(test_text, probabilities)):\n",
        "    if c.isalpha():\n",
        "      total_p *= p\n",
        "      word += c\n",
        "      char_probs.append(p)\n",
        "    elif len(word) > 0:\n",
        "      words.append(word)\n",
        "      word_probs.append(measure(char_probs))\n",
        "      total_p = 1\n",
        "      word = \"\"\n",
        "      char_probs = []\n",
        "  \n",
        "  return words, np.nan_to_num(word_probs)"
      ],
      "execution_count": 0,
      "outputs": []
    },
    {
      "cell_type": "markdown",
      "metadata": {
        "id": "mGtzt2ZAy-At",
        "colab_type": "text"
      },
      "source": [
        "Find the distributions of scores on some example sentences."
      ]
    },
    {
      "cell_type": "code",
      "metadata": {
        "id": "LF1iMqQNzBZP",
        "colab_type": "code",
        "outputId": "5a65bfa6-84b1-4f92-f8e4-da574f58458e",
        "colab": {
          "base_uri": "https://localhost:8080/",
          "height": 1000
        }
      },
      "source": [
        "test_texts = [\n",
        "  \"Ich habe dir die gedownloadete Datei gesendet.\",\n",
        "  \"Ein einfacherer Satz in nur einer Sprache.\",\n",
        "  \"Mit einer anderen Algorithmenkombination sollte dies einfacher werden.\"\n",
        "]\n",
        "\n",
        "for _ in range(2):\n",
        "  test_texts.append(get_random_text(\"deu\", line_count=1))\n",
        "\n",
        "sent_data = {}\n",
        "high, low = 0, 0\n",
        "\n",
        "for sent in test_texts:\n",
        "  probabilities = get_char_probabilites(models[\"deu\"], sent)\n",
        "  words, word_probs = get_word_probs(sent, probabilities)\n",
        "  sent_data[sent] = (words, word_probs)\n",
        "\n",
        "  high = max(max(word_probs), high)\n",
        "  low = min(min(word_probs), low)\n",
        "\n",
        "for (words, word_probs) in sent_data.values():\n",
        "  x = range(len(words))\n",
        "  plt.figure(figsize=(10,2))\n",
        "  plt.plot(x, word_probs)\n",
        "  plt.xticks(x, words, rotation='vertical')\n",
        "  plt.show()"
      ],
      "execution_count": 0,
      "outputs": [
        {
          "output_type": "display_data",
          "data": {
            "image/png": "[encoded data removed]",
            "text/plain": [
              "<Figure size 720x144 with 1 Axes>"
            ]
          },
          "metadata": {
            "tags": [],
            "image/png": {
              "width": 598,
              "height": 207
            }
          }
        },
        {
          "output_type": "display_data",
          "data": {
            "image/png": "[encoded data removed]",
            "text/plain": [
              "<Figure size 720x144 with 1 Axes>"
            ]
          },
          "metadata": {
            "tags": [],
            "image/png": {
              "width": 592,
              "height": 188
            }
          }
        },
        {
          "output_type": "display_data",
          "data": {
            "image/png": "[encoded data removed]",
            "text/plain": [
              "<Figure size 720x144 with 1 Axes>"
            ]
          },
          "metadata": {
            "tags": [],
            "image/png": {
              "width": 598,
              "height": 256
            }
          }
        },
        {
          "output_type": "display_data",
          "data": {
            "image/png": "[encoded data removed]",
            "text/plain": [
              "<Figure size 720x144 with 1 Axes>"
            ]
          },
          "metadata": {
            "tags": [],
            "image/png": {
              "width": 592,
              "height": 185
            }
          }
        },
        {
          "output_type": "display_data",
          "data": {
            "image/png": "[encoded data removed]",
            "text/plain": [
              "<Figure size 720x144 with 1 Axes>"
            ]
          },
          "metadata": {
            "tags": [],
            "image/png": {
              "width": 592,
              "height": 214
            }
          }
        }
      ]
    },
    {
      "cell_type": "markdown",
      "metadata": {
        "id": "xUCBNDjmzGQj",
        "colab_type": "text"
      },
      "source": [
        "## Find unexpected words\n",
        "\n",
        "Uses the word probabilities from earlier to cluster together unusual words."
      ]
    },
    {
      "cell_type": "code",
      "metadata": {
        "id": "mdkmCSnoWqes",
        "colab_type": "code",
        "outputId": "a4c7a70a-1696-4c75-f12d-3aaa91bdfa38",
        "colab": {
          "base_uri": "https://localhost:8080/",
          "height": 207
        }
      },
      "source": [
        "def get_unexpected_words(lang, test_text):\n",
        "  test_text += \" \"\n",
        "  probabilities = get_char_probabilites(models[lang], test_text)\n",
        "  words, word_probs = get_word_probs(test_text, probabilities)\n",
        "  clustering = KMeans(n_clusters=2).fit_predict(word_probs.reshape(-1, 1))\n",
        "\n",
        "  a = [x for i, x in enumerate(word_probs) if clustering[i] == 0]\n",
        "  b = [x for i, x in enumerate(word_probs) if clustering[i] == 1]\n",
        "  target_cluster, count = Counter(clustering).most_common()[-1]\n",
        "\n",
        "  unusual = []\n",
        "  if count < len(words):\n",
        "    unusual = [x for i, x in enumerate(words) if clustering[i] == target_cluster]\n",
        "\n",
        "  return unusual\n",
        "\n",
        "def get_unusual(sent):\n",
        "  firstLang = True\n",
        "  overlap = set()\n",
        "  for lang in langs:\n",
        "    unusual = get_unexpected_words(lang, sent)\n",
        "    if firstLang:\n",
        "      overlap = set(unusual)\n",
        "      firstLang = False\n",
        "    else:\n",
        "      overlap = overlap.intersection(unusual)\n",
        "  return sorted(list(overlap)) if overlap else []\n",
        "\n",
        "for t in test_texts:\n",
        "  print(t)\n",
        "  print(\"unusual\", get_unusual(t))"
      ],
      "execution_count": 0,
      "outputs": [
        {
          "output_type": "stream",
          "text": [
            "Ich habe dir die gedownloadete Datei gesendet.\n",
            "unusual ['gedownloadete']\n",
            "Ein einfacherer Satz in nur einer Sprache.\n",
            "unusual ['einfacherer']\n",
            "Mit einer anderen Algorithmenkombination sollte dies einfacher werden.\n",
            "unusual ['Algorithmenkombination']\n",
            "1958 wurde sie außer Dienst gestellt und zum Abwracken nach Japan an Mitsubishi Heavy Industries verkauft. \n",
            "unusual ['Abwracken', 'Mitsubishi']\n",
            "Somit können DOS-Betriebssysteme ohne ein IBM-kompatibles BIOS nicht starten und Programme für den IBM-PC nicht mehr nativ auf dem jeweiligen System ausgeführt werden. \n",
            "unusual ['Betriebssysteme', 'ausgeführt', 'jeweiligen', 'kompatibles']\n"
          ],
          "name": "stdout"
        }
      ]
    },
    {
      "cell_type": "markdown",
      "metadata": {
        "id": "qqdqhPxgzJoZ",
        "colab_type": "text"
      },
      "source": [
        "## Language ratios\n",
        "\n",
        "Find the language ratio of a word by breaking it down into its morphemes with Morfessor."
      ]
    },
    {
      "cell_type": "code",
      "metadata": {
        "id": "vO6y60LjE1Rb",
        "colab_type": "code",
        "outputId": "308d8f9a-5ae9-4761-f2da-0dbc3a1a63a8",
        "colab": {
          "base_uri": "https://localhost:8080/",
          "height": 119
        }
      },
      "source": [
        "english = enchant.Dict(\"en_US\")\n",
        "german = enchant.Dict(\"de_DE\")\n",
        "\n",
        "def groupings(pieces):\n",
        "  result = []\n",
        "  for start in range(len(pieces)):\n",
        "    for end in range(len(pieces) + 1):\n",
        "      if start == end or start > end:\n",
        "        continue\n",
        "      before = \"\".join(pieces[:start])\n",
        "      during = \"\".join(pieces[start:end])\n",
        "      after = \"\".join(pieces[end:])\n",
        "      result.append((before, during, after))\n",
        "  return result\n",
        "\n",
        "def avg(a):\n",
        "  if len(a) == 0:\n",
        "    return 0\n",
        "  return sum(a) / len(a)\n",
        "\n",
        "def lang_ratio(word):\n",
        "  morph_groups = model.viterbi_nbest(word, 10)\n",
        "  eng = []\n",
        "  ger = []\n",
        "  added_morph_groups = set()\n",
        "  for group in morph_groups:\n",
        "    morphemes, score = group\n",
        "    score = 1 - (score/100)\n",
        "    for candidate in groupings(morphemes):\n",
        "      before, middle, after = candidate\n",
        "      if len(middle) <= 2 or middle in added_morph_groups:\n",
        "        continue\n",
        "      boost = len(middle) / len(word)\n",
        "      added_morph_groups.add(middle)\n",
        "      if english.check(middle):\n",
        "        eng.append(score * boost)\n",
        "      if (middle.title() == middle and middle in deu_nouns):# \\\n",
        "        ger.append(score * boost)\n",
        "  if len(ger) == 0:\n",
        "    return 0 if german.check(word) else 1\n",
        "  return avg(eng)/avg(ger)\n",
        "\n",
        "lang_ratio(\"initially\")\n",
        "\n",
        "for w in \"Brasilien abchecken clicken eingeloggt fiktiven initially\".split(\" \"):\n",
        "  print(lang_ratio(w), w)"
      ],
      "execution_count": 0,
      "outputs": [
        {
          "output_type": "stream",
          "text": [
            "0.48149587738468486 Brasilien\n",
            "1 abchecken\n",
            "1 clicken\n",
            "0 eingeloggt\n",
            "0 fiktiven\n",
            "1 initially\n"
          ],
          "name": "stdout"
        }
      ]
    },
    {
      "cell_type": "markdown",
      "metadata": {
        "id": "sM-ubpZizVTy",
        "colab_type": "text"
      },
      "source": [
        "## Find mixed language words\n",
        "\n",
        "Combines the two functions to find words that are likely to be intra-word code-switched."
      ]
    },
    {
      "cell_type": "code",
      "metadata": {
        "id": "kFP6Xe4BzVtq",
        "colab_type": "code",
        "outputId": "e85ce0e4-6705-48ef-b7d7-a15eb4fb432f",
        "colab": {
          "base_uri": "https://localhost:8080/",
          "height": 292
        }
      },
      "source": [
        "def get_mixed(sent, matrix_lang=\"deu\"):\n",
        "  unusual = get_unusual(sent)\n",
        "  if matrix_lang == \"deu\":\n",
        "    return [w for w in unusual if lang_ratio(w) >= 1]\n",
        "  elif matrix_lang == \"eng\":\n",
        "    return [w for w in unusual if lang_ratio(w) <= 1]\n",
        "  else:\n",
        "    print(\"Unknown language\", matrix_lang)\n",
        "    return []\n",
        "\n",
        "for t in test_texts:\n",
        "  print(t)\n",
        "  print(\"unusual\", get_unusual(t))\n",
        "  print(\"filtered\", get_mixed(t))"
      ],
      "execution_count": 0,
      "outputs": [
        {
          "output_type": "stream",
          "text": [
            "Ich habe dir die gedownloadete Datei gesendet.\n",
            "unusual ['gedownloadete']\n",
            "filtered ['gedownloadete']\n",
            "Ein einfacherer Satz in nur einer Sprache.\n",
            "unusual ['einfacherer']\n",
            "filtered []\n",
            "Mit einer anderen Algorithmenkombination sollte dies einfacher werden.\n",
            "unusual ['Algorithmenkombination']\n",
            "filtered ['Algorithmenkombination']\n",
            "1958 wurde sie außer Dienst gestellt und zum Abwracken nach Japan an Mitsubishi Heavy Industries verkauft. \n",
            "unusual ['Abwracken', 'Mitsubishi']\n",
            "filtered []\n",
            "Somit können DOS-Betriebssysteme ohne ein IBM-kompatibles BIOS nicht starten und Programme für den IBM-PC nicht mehr nativ auf dem jeweiligen System ausgeführt werden. \n",
            "unusual ['Betriebssysteme', 'ausgeführt', 'jeweiligen', 'kompatibles']\n",
            "filtered []\n"
          ],
          "name": "stdout"
        }
      ]
    },
    {
      "cell_type": "markdown",
      "metadata": {
        "id": "a_aQydl4q37Z",
        "colab_type": "text"
      },
      "source": [
        "## Testing\n",
        "\n",
        "We have tagged language data, let's test the model."
      ]
    },
    {
      "cell_type": "code",
      "metadata": {
        "id": "6rto5R7frBdH",
        "colab_type": "code",
        "outputId": "3ad99aee-64c5-4c9e-e94a-9c7f117fba59",
        "colab": {
          "base_uri": "https://localhost:8080/",
          "height": 34
        }
      },
      "source": [
        "is_first = True\n",
        "documents = {}\n",
        "\n",
        "with open(\"/content/drive/My Drive/Colab/words.tsv\") as tsvfile:\n",
        "  reader = csv.reader(tsvfile, delimiter='\\t', quotechar=None)\n",
        "  for row in reader:\n",
        "    if is_first:\n",
        "      is_first = False\n",
        "      continue\n",
        "    doc_id, word, tag = row[0], row[1], row[6]\n",
        "    if doc_id not in documents:\n",
        "      documents[doc_id] = {\n",
        "        \"Complete\": []\n",
        "      }\n",
        "    if tag not in documents[doc_id]:\n",
        "      documents[doc_id][tag] = []\n",
        "    documents[doc_id][tag].append(word)\n",
        "    documents[doc_id][\"Complete\"].append(word)\n",
        "\n",
        "is_first = True\n",
        "texts = {}\n",
        "\n",
        "with open(\"/content/drive/My Drive/Colab/corpora.tsv\") as tsvfile:\n",
        "  reader = csv.reader(tsvfile, delimiter='\\t', quotechar=None)\n",
        "  for row in reader:\n",
        "    if is_first:\n",
        "      is_first = False\n",
        "      continue\n",
        "    doc_id, text = row[0], row[1]\n",
        "    texts[doc_id] = text\n",
        "\n",
        "sample_text = random.choice(list(texts.items()))\n",
        "sample_doc_id = sample_text[0]\n",
        "labels = [\"Named Entity\", \"German\", \"Integrated\", \"Mixed\", \"English\", \"Other\"]\n",
        "\n",
        "sample_doc_id"
      ],
      "execution_count": 0,
      "outputs": [
        {
          "output_type": "execute_result",
          "data": {
            "text/plain": [
              "'foadvvTi2k15mCTqFGUn'"
            ]
          },
          "metadata": {
            "tags": []
          },
          "execution_count": 17
        }
      ]
    },
    {
      "cell_type": "code",
      "metadata": {
        "id": "T3xSTUc3tHdm",
        "colab_type": "code",
        "outputId": "4f2ec638-6aed-47f6-947f-588545655f00",
        "colab": {
          "base_uri": "https://localhost:8080/",
          "height": 102
        }
      },
      "source": [
        "def get_true_labels(doc_id, mixed_labels=[\"Mixed\"]):\n",
        "  true_labels = []\n",
        "  document = documents[doc_id]\n",
        "  for word in document[\"Complete\"]:\n",
        "    if word not in document[\"\"]:\n",
        "      if any([label in document and word in document[label] for label in mixed_labels]):\n",
        "        true_labels.append(1)\n",
        "      else:\n",
        "        true_labels.append(0)\n",
        "  return np.array(true_labels)\n",
        "\n",
        "get_true_labels(sample_doc_id)"
      ],
      "execution_count": 0,
      "outputs": [
        {
          "output_type": "execute_result",
          "data": {
            "text/plain": [
              "array([0, 0, 0, 0, 0, 0, 0, 0, 0, 0, 0, 0, 0, 0, 0, 0, 0, 0, 0, 0, 0, 0,\n",
              "       0, 0, 0, 0, 0, 0, 0, 0, 0, 0, 0, 0, 0, 0, 0, 0, 0, 0, 0, 0, 0, 0,\n",
              "       0, 0, 0, 0, 0, 0, 0, 0, 0, 0, 0, 0, 0, 0, 0, 0, 0, 0, 0, 0, 0, 0,\n",
              "       0, 0, 0, 0, 0, 0, 0, 0, 0, 0, 0, 0, 0, 0, 0, 1, 0, 0, 0, 0, 0, 0,\n",
              "       0, 0, 0, 0, 0, 0, 0, 0, 0, 1, 0])"
            ]
          },
          "metadata": {
            "tags": []
          },
          "execution_count": 18
        }
      ]
    },
    {
      "cell_type": "code",
      "metadata": {
        "id": "LgNmQY99_uic",
        "colab_type": "code",
        "outputId": "b7cf5e64-a623-4c35-8904-387e2e4ba203",
        "colab": {
          "base_uri": "https://localhost:8080/",
          "height": 102
        }
      },
      "source": [
        "def get_pred_labels(doc_id, predictor=get_mixed):\n",
        "  pred_labels = []\n",
        "  predicted_mixed = []\n",
        "\n",
        "  sents = re.split(r'([^0-9][:;.]\\s+)', texts[doc_id] + \" \")\n",
        "  sents = [sent.strip() for sent in sents if sent]\n",
        "  sents = [a + b for a,b in zip(sents[0::2], sents[1::2])]\n",
        "  for sent in sents:\n",
        "    if len(re.split(r'[^a-zA-Z0-9]', sent)) > 2:\n",
        "      predicted_mixed.extend(predictor(sent))\n",
        "\n",
        "  document = documents[doc_id]\n",
        "  for word in document[\"Complete\"]:\n",
        "    if word not in document[\"\"]:\n",
        "      if word in predicted_mixed:\n",
        "        pred_labels.append(1)\n",
        "      else:\n",
        "        pred_labels.append(0)\n",
        "  return np.array(pred_labels)\n",
        "\n",
        "get_pred_labels(sample_doc_id)"
      ],
      "execution_count": 0,
      "outputs": [
        {
          "output_type": "execute_result",
          "data": {
            "text/plain": [
              "array([0, 0, 0, 0, 0, 0, 0, 0, 0, 0, 0, 0, 0, 0, 0, 0, 0, 0, 0, 0, 0, 0,\n",
              "       0, 0, 0, 0, 0, 0, 0, 0, 0, 0, 0, 0, 0, 0, 0, 0, 0, 0, 0, 0, 0, 0,\n",
              "       0, 0, 0, 0, 0, 0, 0, 0, 0, 0, 0, 0, 0, 0, 0, 0, 0, 0, 0, 0, 0, 0,\n",
              "       0, 0, 0, 0, 0, 0, 0, 0, 0, 0, 0, 0, 0, 0, 0, 1, 0, 0, 0, 0, 0, 0,\n",
              "       0, 0, 0, 0, 0, 0, 0, 0, 0, 0, 0])"
            ]
          },
          "metadata": {
            "tags": []
          },
          "execution_count": 19
        }
      ]
    },
    {
      "cell_type": "code",
      "metadata": {
        "id": "r5ac-cIMCL9Z",
        "colab_type": "code",
        "outputId": "6872d527-628d-4d6b-db79-c6e8037557e5",
        "colab": {
          "base_uri": "https://localhost:8080/",
          "height": 323
        }
      },
      "source": [
        "print(classification_report(\n",
        "  get_true_labels(sample_doc_id), \n",
        "  get_pred_labels(sample_doc_id), target_names=[\"Other\", \"Mixed\"]))\n",
        "\n",
        "print(classification_report(\n",
        "  get_true_labels(sample_doc_id), \n",
        "  get_pred_labels(sample_doc_id, predictor=get_unusual), target_names=[\"Other\", \"Mixed\"]))"
      ],
      "execution_count": 0,
      "outputs": [
        {
          "output_type": "stream",
          "text": [
            "              precision    recall  f1-score   support\n",
            "\n",
            "       Other       0.99      1.00      0.99        97\n",
            "       Mixed       1.00      0.50      0.67         2\n",
            "\n",
            "    accuracy                           0.99        99\n",
            "   macro avg       0.99      0.75      0.83        99\n",
            "weighted avg       0.99      0.99      0.99        99\n",
            "\n",
            "              precision    recall  f1-score   support\n",
            "\n",
            "       Other       0.99      0.82      0.90        97\n",
            "       Mixed       0.06      0.50      0.10         2\n",
            "\n",
            "    accuracy                           0.82        99\n",
            "   macro avg       0.52      0.66      0.50        99\n",
            "weighted avg       0.97      0.82      0.88        99\n",
            "\n"
          ],
          "name": "stdout"
        }
      ]
    },
    {
      "cell_type": "code",
      "metadata": {
        "id": "yjbRIuYv6_uv",
        "colab_type": "code",
        "outputId": "666f0b19-b302-4d47-a63c-d936a7c102f9",
        "colab": {
          "base_uri": "https://localhost:8080/",
          "height": 34
        }
      },
      "source": [
        "def get_words(doc_id):\n",
        "  document = documents[doc_id]\n",
        "  return [w for w in document[\"Complete\"] if w not in document[\"\"]]\n",
        "\n",
        "get_words(sample_doc_id)[:5]"
      ],
      "execution_count": 0,
      "outputs": [
        {
          "output_type": "execute_result",
          "data": {
            "text/plain": [
              "['In', 'diesem', 'Artikel', 'wird', 'gezeigt']"
            ]
          },
          "metadata": {
            "tags": []
          },
          "execution_count": 21
        }
      ]
    },
    {
      "cell_type": "code",
      "metadata": {
        "id": "MIaNjTErDARh",
        "colab_type": "code",
        "outputId": "d27bf16e-a768-4884-e158-fbed4e731766",
        "colab": {
          "base_uri": "https://localhost:8080/",
          "height": 34
        }
      },
      "source": [
        "pred_mixed = {}\n",
        "pred_unusual = {}\n",
        "words = []\n",
        "\n",
        "for doc_id in tqdm(texts.keys()):\n",
        "  pred_mixed[doc_id] = get_pred_labels(doc_id)\n",
        "  pred_unusual[doc_id] = get_pred_labels(doc_id, predictor=get_unusual)\n",
        "  words.extend(get_words(doc_id))"
      ],
      "execution_count": 0,
      "outputs": [
        {
          "output_type": "stream",
          "text": [
            "100%|██████████| 88/88 [37:21<00:00, 22.63s/it]\n"
          ],
          "name": "stderr"
        }
      ]
    },
    {
      "cell_type": "markdown",
      "metadata": {
        "id": "1jqPza8JsvS_",
        "colab_type": "text"
      },
      "source": [
        "### Performance\n",
        "\n",
        "Let's get some benchmarks for our results."
      ]
    },
    {
      "cell_type": "code",
      "metadata": {
        "id": "i4x-bsePFPL9",
        "colab_type": "code",
        "outputId": "289f07ca-f05c-4eec-e519-687a1b4ed993",
        "colab": {
          "base_uri": "https://localhost:8080/",
          "height": 357
        }
      },
      "source": [
        "for pred in [pred_unusual, pred_mixed]:\n",
        "  all_pred = []\n",
        "  all_true = []\n",
        "\n",
        "  for doc_id in texts.keys():\n",
        "    all_pred.extend(pred[doc_id]) # cached get_pred_labels(doc_id)\n",
        "    all_true.extend(get_true_labels(doc_id))\n",
        "\n",
        "  print(\"scored\", round(f1_score(all_true, all_pred), 4))\n",
        "  print(classification_report(all_true, all_pred, target_names=[\"Other\", \"Mixed\"], digits=4))\n"
      ],
      "execution_count": 0,
      "outputs": [
        {
          "output_type": "stream",
          "text": [
            "scored 0.1102\n",
            "              precision    recall  f1-score   support\n",
            "\n",
            "       Other     0.9976    0.8516    0.9189      8371\n",
            "       Mixed     0.0591    0.8211    0.1102        95\n",
            "\n",
            "    accuracy                         0.8513      8466\n",
            "   macro avg     0.5284    0.8363    0.5146      8466\n",
            "weighted avg     0.9871    0.8513    0.9098      8466\n",
            "\n",
            "scored 0.2449\n",
            "              precision    recall  f1-score   support\n",
            "\n",
            "       Other     0.9915    0.9908    0.9912      8371\n",
            "       Mixed     0.2376    0.2526    0.2449        95\n",
            "\n",
            "    accuracy                         0.9825      8466\n",
            "   macro avg     0.6146    0.6217    0.6180      8466\n",
            "weighted avg     0.9831    0.9825    0.9828      8466\n",
            "\n"
          ],
          "name": "stdout"
        }
      ]
    },
    {
      "cell_type": "markdown",
      "metadata": {
        "id": "5dvcpHX_srSH",
        "colab_type": "text"
      },
      "source": [
        "### Inter-annotator Agreement\n",
        "\n",
        "Those results didn't look good. Let's see how well the three annotators agreed with each other."
      ]
    },
    {
      "cell_type": "code",
      "metadata": {
        "id": "pgh3YNp4oNxF",
        "colab_type": "code",
        "outputId": "a1487618-e165-4295-853b-aafac1bb6825",
        "colab": {
          "base_uri": "https://localhost:8080/",
          "height": 34
        }
      },
      "source": [
        "is_first = True\n",
        "labels = []\n",
        "line = 0\n",
        "\n",
        "with open(\"/content/drive/My Drive/Colab/words.tsv\") as tsvfile:\n",
        "  reader = csv.reader(tsvfile, delimiter='\\t', quotechar=None)\n",
        "  for row in reader:\n",
        "    if is_first or not row[5]:\n",
        "      is_first = False\n",
        "      continue\n",
        "    line += 1\n",
        "    for i in range(3):\n",
        "      label = row[i + 2]\n",
        "      labels.append((i, line, label))\n",
        "\n",
        "annotations = AnnotationTask(data=labels)\n",
        "annotations.multi_kappa(), annotations.alpha()"
      ],
      "execution_count": 0,
      "outputs": [
        {
          "output_type": "execute_result",
          "data": {
            "text/plain": [
              "(0.6712313312558054, 0.6707419527532306)"
            ]
          },
          "metadata": {
            "tags": []
          },
          "execution_count": 24
        }
      ]
    },
    {
      "cell_type": "markdown",
      "metadata": {
        "id": "e1cRndk57gad",
        "colab_type": "text"
      },
      "source": [
        "### Errors\n",
        "\n",
        "What were common errors?"
      ]
    },
    {
      "cell_type": "code",
      "metadata": {
        "id": "6oThsbnz7kAb",
        "colab_type": "code",
        "outputId": "22172da4-3056-4fce-a7c0-5e2935db6c4c",
        "colab": {
          "base_uri": "https://localhost:8080/",
          "height": 187
        }
      },
      "source": [
        "all_pred = []\n",
        "all_true = []\n",
        "\n",
        "for doc_id in texts.keys():\n",
        "  all_pred.extend(pred_mixed[doc_id]) # cached get_pred_labels(doc_id)\n",
        "  all_true.extend(get_true_labels(doc_id))\n",
        "\n",
        "errors = Counter()\n",
        "\n",
        "for word, pred, true in zip(words, all_pred, all_true):\n",
        "  n = len(word)\n",
        "  if pred != true:\n",
        "    errors[word] += 1\n",
        "\n",
        "for word, count in errors.most_common(10):\n",
        "  print(count, word)"
      ],
      "execution_count": 0,
      "outputs": [
        {
          "output_type": "stream",
          "text": [
            "8 PowerShell\n",
            "4 UMSCHALT\n",
            "4 Funktionscode\n",
            "4 Schnellstart\n",
            "3 Plattformfeatures\n",
            "3 Hostkonfigurationsdatei\n",
            "3 Entwicklungscomputer\n",
            "3 Konfigurationstool\n",
            "3 outqueue\n",
            "3 installieren\n"
          ],
          "name": "stdout"
        }
      ]
    }
  ]
}