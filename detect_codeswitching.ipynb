{
  "nbformat": 4,
  "nbformat_minor": 0,
  "metadata": {
    "accelerator": "TPU",
    "colab": {
      "name": "Detect codeswitching",
      "provenance": [],
      "collapsed_sections": [],
      "toc_visible": true,
      "include_colab_link": true
    },
    "kernelspec": {
      "name": "python3",
      "display_name": "Python 3"
    }
  },
  "cells": [
    {
      "cell_type": "markdown",
      "metadata": {
        "id": "view-in-github",
        "colab_type": "text"
      },
      "source": [
        "<a href=\"https://colab.research.google.com/github/jaflo/word-unusuality/blob/master/detect_codeswitching.ipynb\" target=\"_parent\"><img src=\"https://colab.research.google.com/assets/colab-badge.svg\" alt=\"Open In Colab\"/></a>"
      ]
    },
    {
      "cell_type": "markdown",
      "metadata": {
        "id": "_qvpmcgZrixj",
        "colab_type": "text"
      },
      "source": [
        "# Automatic Identification of Intra-Word Code-Switching of German and English\n",
        "\n",
        "The system described below allows for identification of intra-word code-switching in a German-English mixed text without the need for training data with labels identifying intra-word code-switched words. The system is composed of a semi-supervised LSTM RNN and a language ratio filter.\n",
        "\n",
        "This notebook accompanies an unpublished paper. It has been made available to encourage reproduction of the documented results and processes. While the results leave room for improvement, the hope is that the availability of this code will result in future research in the area.\n",
        "\n",
        "## Execution environment\n",
        "\n",
        "This notebook is set up to run in [Google Colab](https://colab.research.google.com/) on [Cloud TPUs](https://cloud.google.com/tpu/). At time of writing, you can make use of these resources for no monetary charge.\n",
        "\n",
        "If you are viewing this in Colab, make sure that TPU usage is enabled for your runtime. You can do this by selecting Runtime > Change runtime type > Hardware accelerator > TPU. The code also persists data in your Google Drive in a top-level folder called Colab.\n",
        "\n",
        "You might have to run the program more than once to create missing files (Runtime > Run all)."
      ]
    },
    {
      "cell_type": "code",
      "metadata": {
        "cellView": "form",
        "colab_type": "code",
        "id": "KUu4vOt5zI9d",
        "colab": {}
      },
      "source": [
        "# This notebook is licensed under the MIT license. You should have received a\n",
        "# copy of the license with this notebook. If not, you can retrieve a copy here:\n",
        "# https://opensource.org/licenses/MIT\n",
        "\n",
        "# This notebook includes code from the the Cloud TPU reference notebook.\n",
        "# The original can be found here:\n",
        "# https://github.com/tensorflow/tpu/blob/master/tools/colab/shakespeare_with_tpu_and_keras.ipynb\n",
        "# Cells that use code from that notebook include a comment noting changes if any\n",
        "# were made. The reference notebook is licensed under the Apache License 2.0:\n",
        "\n",
        "# ==============================================================================\n",
        "# Copyright 2018 The TensorFlow Hub Authors. All Rights Reserved.\n",
        "#\n",
        "# Licensed under the Apache License, Version 2.0 (the \"License\");\n",
        "# you may not use this file except in compliance with the License.\n",
        "# You may obtain a copy of the License at\n",
        "#\n",
        "#     http://www.apache.org/licenses/LICENSE-2.0\n",
        "#\n",
        "# Unless required by applicable law or agreed to in writing, software\n",
        "# distributed under the License is distributed on an \"AS IS\" BASIS,\n",
        "# WITHOUT WARRANTIES OR CONDITIONS OF ANY KIND, either express or implied.\n",
        "# See the License for the specific language governing permissions and\n",
        "# limitations under the License.\n",
        "# =============================================================================="
      ],
      "execution_count": 0,
      "outputs": []
    },
    {
      "cell_type": "markdown",
      "metadata": {
        "id": "g8rxlPbLriQs",
        "colab_type": "text"
      },
      "source": [
        "## Setup\n",
        "\n",
        "* Connects to Google Drive\n",
        "* Installs dictionaries\n",
        "* Installs Python libraries\n",
        "* Imports a bunch of stuff\n",
        "* Configures matplotlib"
      ]
    },
    {
      "cell_type": "code",
      "metadata": {
        "id": "TMaPuqT282IM",
        "colab_type": "code",
        "outputId": "b3b6fcbd-06db-4d01-a5a7-a28c614917e8",
        "colab": {
          "base_uri": "https://localhost:8080/",
          "height": 231
        }
      },
      "source": [
        "from google.colab import drive\n",
        "drive.mount('/content/drive')\n",
        "\n",
        "!apt-get install enchant myspell-de-de\n",
        "!pip install pyenchant\n",
        "!pip install -U morfessor\n",
        "\n",
        "from collections import Counter\n",
        "import enchant\n",
        "import os\n",
        "import math\n",
        "import distutils\n",
        "import random\n",
        "import re\n",
        "import csv\n",
        "import matplotlib.pyplot as plt\n",
        "\n",
        "import numpy as np\n",
        "from sklearn.cluster import KMeans\n",
        "from sklearn.metrics import classification_report\n",
        "from sklearn.metrics import f1_score\n",
        "from tqdm import tqdm\n",
        "import morfessor\n",
        "from nltk.metrics.agreement import AnnotationTask\n",
        "\n",
        "import tensorflow as tf\n",
        "if distutils.version.LooseVersion(tf.__version__) < '1.14':\n",
        "    raise Exception('This notebook is compatible with TensorFlow 1.14 or higher, for TensorFlow 1.13 or lower please use the previous version at https://github.com/tensorflow/tpu/blob/r1.13/tools/colab/shakespeare_with_tpu_and_keras.ipynb')\n",
        "TPU_WORKER = 'grpc://' + os.environ['COLAB_TPU_ADDR']\n",
        "\n",
        "%matplotlib inline\n",
        "%config InlineBackend.figure_format = 'retina'"
      ],
      "execution_count": 0,
      "outputs": [
        {
          "output_type": "stream",
          "text": [
            "Drive already mounted at /content/drive; to attempt to forcibly remount, call drive.mount(\"/content/drive\", force_remount=True).\n",
            "Reading package lists... Done\n",
            "Building dependency tree       \n",
            "Reading state information... Done\n",
            "enchant is already the newest version (1.6.0-11.1).\n",
            "myspell-de-de is already the newest version (20161207-4).\n",
            "The following package was automatically installed and is no longer required:\n",
            "  libnvidia-common-430\n",
            "Use 'apt autoremove' to remove it.\n",
            "0 upgraded, 0 newly installed, 0 to remove and 32 not upgraded.\n",
            "Requirement already satisfied: pyenchant in /usr/local/lib/python3.6/dist-packages (2.0.0)\n",
            "Requirement already up-to-date: morfessor in /usr/local/lib/python3.6/dist-packages (2.0.6)\n"
          ],
          "name": "stdout"
        }
      ]
    },
    {
      "cell_type": "markdown",
      "metadata": {
        "id": "VxCDuCsNsgw_",
        "colab_type": "text"
      },
      "source": [
        "### Download language data\n",
        "\n",
        "This downloads\n",
        "\n",
        "* German and English Wikipedia data from Leipzig Corpora: http://wortschatz.uni-leipzig.de/en/download/\n",
        "* Lists of German words for Morfessor: http://morpho.aalto.fi/events/morphochallenge2010/datasets.shtml\n",
        "* List of German nouns: https://github.com/gambolputty/german-nouns"
      ]
    },
    {
      "cell_type": "code",
      "metadata": {
        "id": "MT_0dAVmygDr",
        "colab_type": "code",
        "outputId": "30aa129c-ee2d-42ed-8268-9e59e3bcd88d",
        "colab": {
          "base_uri": "https://localhost:8080/",
          "height": 714
        }
      },
      "source": [
        "# http://wortschatz.uni-leipzig.de/en/download/ 10K - 1M\n",
        "\n",
        "!wget --show-progress -nc --continue -P /content http://pcai056.informatik.uni-leipzig.de/downloads/corpora/deu_wikipedia_2016_1M.tar.gz\n",
        "!wget --show-progress -nc --continue -P /content http://pcai056.informatik.uni-leipzig.de/downloads/corpora/eng_wikipedia_2016_1M.tar.gz\n",
        "\n",
        "!for i in /content/*.tar.gz; do tar -xvf $i ; done\n",
        "!wc -l /content/*_*_20*/*-sentences.txt\n",
        "\n",
        "# http://morpho.aalto.fi/events/morphochallenge2010/datasets.shtml\n",
        "\n",
        "!wget --show-progress -nc --continue -P /content http://morpho.aalto.fi/events/morphochallenge2010/data/wordlist-2010.ger\n",
        "\n",
        "# https://github.com/gambolputty/german-nouns\n",
        "\n",
        "!wget --show-progress -nc --continue -P /content https://raw.githubusercontent.com/gambolputty/german-nouns/master/nouns.csv\n",
        "\n",
        "deu_nouns = set()\n",
        "\n",
        "with open('nouns.csv') as csv_file:\n",
        "  csv_reader = csv.reader(csv_file, delimiter=',')\n",
        "  header = True\n",
        "  for row in csv_reader:\n",
        "    if not header:\n",
        "      deu_nouns.add(row[0])\n",
        "    header = False\n",
        "\n",
        "len(deu_nouns)"
      ],
      "execution_count": 0,
      "outputs": [
        {
          "output_type": "stream",
          "text": [
            "File ‘/content/deu_wikipedia_2016_1M.tar.gz’ already there; not retrieving.\n",
            "\n",
            "--2019-11-27 23:12:54--  http://pcai056.informatik.uni-leipzig.de/downloads/corpora/eng_wikipedia_2016_1M.tar.gz\n",
            "Resolving pcai056.informatik.uni-leipzig.de (pcai056.informatik.uni-leipzig.de)... 139.18.2.216\n",
            "Connecting to pcai056.informatik.uni-leipzig.de (pcai056.informatik.uni-leipzig.de)|139.18.2.216|:80... connected.\n",
            "HTTP request sent, awaiting response... 200 OK\n",
            "Length: 268122092 (256M) [application/x-gzip]\n",
            "Saving to: ‘/content/eng_wikipedia_2016_1M.tar.gz’\n",
            "\n",
            "eng_wikipedia_2016_ 100%[===================>] 255.70M  16.0MB/s    in 22s     \n",
            "\n",
            "2019-11-27 23:13:16 (11.6 MB/s) - ‘/content/eng_wikipedia_2016_1M.tar.gz’ saved [268122092/268122092]\n",
            "\n",
            "deu_wikipedia_2016_1M/\n",
            "deu_wikipedia_2016_1M/deu_wikipedia_2016_1M-inv_so.txt\n",
            "deu_wikipedia_2016_1M/deu_wikipedia_2016_1M-sources.txt\n",
            "deu_wikipedia_2016_1M/deu_wikipedia_2016_1M-co_n.txt\n",
            "deu_wikipedia_2016_1M/deu_wikipedia_2016_1M-sentences.txt\n",
            "deu_wikipedia_2016_1M/deu_wikipedia_2016_1M-inv_w.txt\n",
            "deu_wikipedia_2016_1M/deu_wikipedia_2016_1M-co_s.txt\n",
            "deu_wikipedia_2016_1M/deu_wikipedia_2016_1M-words.txt\n",
            "deu_wikipedia_2016_1M/deu_wikipedia_2016_1M-import.sql\n",
            "eng_wikipedia_2016_1M/\n",
            "eng_wikipedia_2016_1M/eng_wikipedia_2016_1M-sources.txt\n",
            "eng_wikipedia_2016_1M/eng_wikipedia_2016_1M-co_n.txt\n",
            "eng_wikipedia_2016_1M/eng_wikipedia_2016_1M-words.txt\n",
            "eng_wikipedia_2016_1M/eng_wikipedia_2016_1M-import.sql\n",
            "eng_wikipedia_2016_1M/eng_wikipedia_2016_1M-inv_so.txt\n",
            "eng_wikipedia_2016_1M/eng_wikipedia_2016_1M-inv_w.txt\n",
            "eng_wikipedia_2016_1M/eng_wikipedia_2016_1M-sentences.txt\n",
            "eng_wikipedia_2016_1M/eng_wikipedia_2016_1M-co_s.txt\n",
            "  1000000 /content/deu_wikipedia_2016_1M/deu_wikipedia_2016_1M-sentences.txt\n",
            "  1000000 /content/eng_wikipedia_2016_1M/eng_wikipedia_2016_1M-sentences.txt\n",
            "  2000000 total\n",
            "File ‘/content/wordlist-2010.ger’ already there; not retrieving.\n",
            "\n",
            "File ‘/content/nouns.csv’ already there; not retrieving.\n",
            "\n"
          ],
          "name": "stdout"
        },
        {
          "output_type": "execute_result",
          "data": {
            "text/plain": [
              "81214"
            ]
          },
          "metadata": {
            "tags": []
          },
          "execution_count": 3
        }
      ]
    },
    {
      "cell_type": "markdown",
      "metadata": {
        "id": "-Gm14cLnx3pj",
        "colab_type": "text"
      },
      "source": [
        "### Train Morfessor\n",
        "\n",
        "Trains Morfessor if needed, which can take a while."
      ]
    },
    {
      "cell_type": "code",
      "metadata": {
        "id": "XDbNpM3Ax0xq",
        "colab_type": "code",
        "colab": {}
      },
      "source": [
        "![ -f \"/content/drive/My Drive/Colab/deu_morfessor_model.bin\" ] || morfessor-train --encoding=ISO_8859-15 --traindata-list --logfile=log.log -s \"/content/drive/My Drive/Colab/deu_morfessor_model.bin\" -d ones /content/wordlist-2010.ger\n",
        "\n",
        "io = morfessor.MorfessorIO()\n",
        "model = io.read_binary_model_file('/content/drive/My Drive/Colab/deu_morfessor_model.bin')"
      ],
      "execution_count": 0,
      "outputs": []
    },
    {
      "cell_type": "markdown",
      "metadata": {
        "id": "5K83taIpx-DE",
        "colab_type": "text"
      },
      "source": [
        "### Transform functions\n",
        "\n",
        "Some helpful functions from the reference notebook."
      ]
    },
    {
      "cell_type": "code",
      "metadata": {
        "colab_type": "code",
        "id": "E3V4V-Jxmuv3",
        "colab": {}
      },
      "source": [
        "# From reference notebook\n",
        "\n",
        "def transform(txt):\n",
        "  return np.asarray([ord(c) for c in txt if ord(c) < 255], dtype=np.int32)\n",
        "\n",
        "def input_fn(corpus_file, seq_len=100, batch_size=1024):\n",
        "  \"\"\"Return a dataset of source and target sequences for training.\"\"\"\n",
        "  with tf.io.gfile.GFile(corpus_file, 'r') as f:\n",
        "    txt = f.read()\n",
        "\n",
        "  txt = \" \".join([line.split(\"\\t\", maxsplit=1)[1] for line in txt.split(\"\\n\") if \"\\t\" in line])\n",
        "\n",
        "  source = tf.constant(transform(txt), dtype=tf.int32)\n",
        "\n",
        "  ds = tf.data.Dataset.from_tensor_slices(source).batch(seq_len+1, drop_remainder=True)\n",
        "\n",
        "  def split_input_target(chunk):\n",
        "    input_text = chunk[:-1]\n",
        "    target_text = chunk[1:]\n",
        "    return input_text, target_text\n",
        "\n",
        "  BUFFER_SIZE = 10000\n",
        "  ds = ds.map(split_input_target).shuffle(BUFFER_SIZE).batch(batch_size, drop_remainder=True)\n",
        "\n",
        "  return ds.repeat()"
      ],
      "execution_count": 0,
      "outputs": []
    },
    {
      "cell_type": "markdown",
      "metadata": {
        "colab_type": "text",
        "id": "Bbb05dNynDrQ"
      },
      "source": [
        "### Build the model\n",
        "\n",
        "The model is defined as a two-layer, forward-LSTM, the same model should work both on CPU and TPU."
      ]
    },
    {
      "cell_type": "code",
      "metadata": {
        "colab_type": "code",
        "id": "yLEM-fLJlEEt",
        "colab": {}
      },
      "source": [
        "# From reference notebook, adds a dropout layer\n",
        "\n",
        "EMBEDDING_DIM = 512\n",
        "\n",
        "def lstm_model(seq_len=100, batch_size=None, stateful=True):\n",
        "  \"\"\"Language model: predict the next word given the current word.\"\"\"\n",
        "  source = tf.keras.Input(\n",
        "      name='seed', shape=(seq_len,), batch_size=batch_size, dtype=tf.int32)\n",
        "\n",
        "  embedding = tf.keras.layers.Embedding(input_dim=256, output_dim=EMBEDDING_DIM)(source)\n",
        "  lstm_1 = tf.keras.layers.LSTM(EMBEDDING_DIM, stateful=stateful, return_sequences=True)(embedding)\n",
        "  lstm_2 = tf.keras.layers.LSTM(EMBEDDING_DIM, stateful=stateful, return_sequences=True)(lstm_1)\n",
        "  dropout = tf.keras.layers.Dropout(0.5)(lstm_2)\n",
        "  predicted_char = tf.keras.layers.TimeDistributed(tf.keras.layers.Dense(256, activation='softmax'))(dropout)\n",
        "\n",
        "  return tf.keras.Model(inputs=[source], outputs=[predicted_char])"
      ],
      "execution_count": 0,
      "outputs": []
    },
    {
      "cell_type": "markdown",
      "metadata": {
        "colab_type": "text",
        "id": "VzBYDJI0_Tfm"
      },
      "source": [
        "### Train the model\n",
        "\n",
        "Sets up the TPUs and defines a function to train and save the model."
      ]
    },
    {
      "cell_type": "code",
      "metadata": {
        "id": "SFTtZb6l9kFc",
        "colab_type": "code",
        "outputId": "c23a62d9-712e-47b4-d9c0-15e15ba0bca5",
        "colab": {
          "base_uri": "https://localhost:8080/",
          "height": 499
        }
      },
      "source": [
        "# From reference notebook\n",
        "\n",
        "print(\"Setting up TPUs...\")\n",
        "tf.keras.backend.clear_session()\n",
        "\n",
        "resolver = tf.contrib.cluster_resolver.TPUClusterResolver(TPU_WORKER)\n",
        "tf.contrib.distribute.initialize_tpu_system(resolver)\n",
        "strategy = tf.contrib.distribute.TPUStrategy(resolver)\n",
        "\n",
        "# Wraps code from reference, changed number of epochs\n",
        "\n",
        "def train_model(corpus_file, model_dest):\n",
        "  print(\"Compiling model...\")\n",
        "  with strategy.scope():\n",
        "    training_model = lstm_model(seq_len=100, stateful=False)\n",
        "    training_model.summary()\n",
        "    training_model.compile(\n",
        "        optimizer=tf.keras.optimizers.RMSprop(learning_rate=0.01),\n",
        "        loss='sparse_categorical_crossentropy',\n",
        "        metrics=['sparse_categorical_accuracy'])\n",
        "\n",
        "  print(\"Starting training using %s...\" % corpus_file)\n",
        "  training_model.fit(\n",
        "    input_fn(corpus_file),\n",
        "    steps_per_epoch=100,\n",
        "    epochs=30\n",
        "  )\n",
        "\n",
        "  print(\"Saving model to %s...\" % model_dest)\n",
        "  training_model.save_weights(model_dest, overwrite=True)\n",
        "\n",
        "  return training_model"
      ],
      "execution_count": 0,
      "outputs": [
        {
          "output_type": "stream",
          "text": [
            "Setting up TPUs...\n",
            "WARNING:tensorflow:\n",
            "The TensorFlow contrib module will not be included in TensorFlow 2.0.\n",
            "For more information, please see:\n",
            "  * https://github.com/tensorflow/community/blob/master/rfcs/20180907-contrib-sunset.md\n",
            "  * https://github.com/tensorflow/addons\n",
            "  * https://github.com/tensorflow/io (for I/O related ops)\n",
            "If you depend on functionality not listed there, please file an issue.\n",
            "\n",
            "INFO:tensorflow:Initializing the TPU system: 10.70.158.2:8470\n",
            "INFO:tensorflow:Finished initializing TPU system.\n",
            "INFO:tensorflow:Querying Tensorflow master (grpc://10.70.158.2:8470) for TPU system metadata.\n",
            "INFO:tensorflow:Found TPU system:\n",
            "INFO:tensorflow:*** Num TPU Cores: 8\n",
            "INFO:tensorflow:*** Num TPU Workers: 1\n",
            "INFO:tensorflow:*** Num TPU Cores Per Worker: 8\n",
            "INFO:tensorflow:*** Available Device: _DeviceAttributes(/job:worker/replica:0/task:0/device:CPU:0, CPU, -1, 8717518378887947450)\n",
            "INFO:tensorflow:*** Available Device: _DeviceAttributes(/job:worker/replica:0/task:0/device:TPU:0, TPU, 17179869184, 9027276443124990252)\n",
            "INFO:tensorflow:*** Available Device: _DeviceAttributes(/job:worker/replica:0/task:0/device:TPU:1, TPU, 17179869184, 17486963003993351429)\n",
            "INFO:tensorflow:*** Available Device: _DeviceAttributes(/job:worker/replica:0/task:0/device:TPU:2, TPU, 17179869184, 14143431778011687946)\n",
            "INFO:tensorflow:*** Available Device: _DeviceAttributes(/job:worker/replica:0/task:0/device:TPU:3, TPU, 17179869184, 7219627632668906300)\n",
            "INFO:tensorflow:*** Available Device: _DeviceAttributes(/job:worker/replica:0/task:0/device:TPU:4, TPU, 17179869184, 321585939950116811)\n",
            "INFO:tensorflow:*** Available Device: _DeviceAttributes(/job:worker/replica:0/task:0/device:TPU:5, TPU, 17179869184, 2814771892396070838)\n",
            "INFO:tensorflow:*** Available Device: _DeviceAttributes(/job:worker/replica:0/task:0/device:TPU:6, TPU, 17179869184, 8152635963011394213)\n",
            "INFO:tensorflow:*** Available Device: _DeviceAttributes(/job:worker/replica:0/task:0/device:TPU:7, TPU, 17179869184, 13425108766911229560)\n",
            "INFO:tensorflow:*** Available Device: _DeviceAttributes(/job:worker/replica:0/task:0/device:TPU_SYSTEM:0, TPU_SYSTEM, 8589934592, 11861491392096837373)\n",
            "INFO:tensorflow:*** Available Device: _DeviceAttributes(/job:worker/replica:0/task:0/device:XLA_CPU:0, XLA_CPU, 17179869184, 14125339835446182852)\n"
          ],
          "name": "stdout"
        }
      ]
    },
    {
      "cell_type": "code",
      "metadata": {
        "id": "jweB3KZmyWlT",
        "colab_type": "code",
        "colab": {}
      },
      "source": [
        "# From reference, only runs one batch\n",
        "\n",
        "def load_model(model_weight_file):\n",
        "  print(\"Loading model from %s...\" % model_weight_file)\n",
        "  # Keras requires the batch size be specified ahead of time for stateful models.\n",
        "  # We use a sequence length of 1, as we will be feeding in one character at a \n",
        "  # time and predicting the next character.\n",
        "  prediction_model = lstm_model(seq_len=1, batch_size=1, stateful=True)\n",
        "  prediction_model.load_weights(model_weight_file)\n",
        "  return prediction_model"
      ],
      "execution_count": 0,
      "outputs": []
    },
    {
      "cell_type": "markdown",
      "metadata": {
        "colab_type": "text",
        "id": "TCBtcpZkykSf"
      },
      "source": [
        "## Find character probabilities\n",
        "\n",
        "Loads the models or trains one if needed. Uses the trained model to make predictions of a given character being the next character."
      ]
    },
    {
      "cell_type": "code",
      "metadata": {
        "id": "83HH99gV-S3g",
        "colab_type": "code",
        "outputId": "c7b3c97f-ac52-419a-eb34-00e0a09d676c",
        "colab": {
          "base_uri": "https://localhost:8080/",
          "height": 180
        }
      },
      "source": [
        "models = {}\n",
        "langs = [\"deu\", \"eng\"]\n",
        "\n",
        "for lang in langs:\n",
        "  model_weights = '/content/drive/My Drive/Colab/%s_weights.h5' % lang\n",
        "  if not os.path.isfile(model_weights):\n",
        "    train_model('/content/%s_wikipedia_2016_1M/%s_wikipedia_2016_1M-sentences.txt' % (lang, lang), model_weights)\n",
        "  models[lang] = load_model(model_weights)"
      ],
      "execution_count": 0,
      "outputs": [
        {
          "output_type": "stream",
          "text": [
            "Loading model from /content/drive/My Drive/Colab/deu_weights.h5...\n",
            "WARNING:tensorflow:From /usr/local/lib/python3.6/dist-packages/tensorflow_core/python/keras/initializers.py:119: calling RandomUniform.__init__ (from tensorflow.python.ops.init_ops) with dtype is deprecated and will be removed in a future version.\n",
            "Instructions for updating:\n",
            "Call initializer instance with the dtype argument instead of passing it to the constructor\n",
            "WARNING:tensorflow:From /usr/local/lib/python3.6/dist-packages/tensorflow_core/python/ops/resource_variable_ops.py:1630: calling BaseResourceVariable.__init__ (from tensorflow.python.ops.resource_variable_ops) with constraint is deprecated and will be removed in a future version.\n",
            "Instructions for updating:\n",
            "If using Keras pass *_constraint arguments to layers.\n",
            "Loading model from /content/drive/My Drive/Colab/eng_weights.h5...\n"
          ],
          "name": "stdout"
        }
      ]
    },
    {
      "cell_type": "code",
      "metadata": {
        "id": "koEwpN6kX23e",
        "colab_type": "code",
        "colab": {}
      },
      "source": [
        "def get_random_text(lang, line_count=200):\n",
        "  corpus_file = '/content/%s_wikipedia_2016_1M/%s_wikipedia_2016_1M-sentences.txt' % (lang, lang)\n",
        "\n",
        "  with tf.io.gfile.GFile(corpus_file, 'r') as f:\n",
        "    txt = f.read()\n",
        "\n",
        "  lines = [line.split(\"\\t\", maxsplit=1)[1] for line in txt.split(\"\\n\") if \"\\t\" in line]\n",
        "  random.shuffle(lines)\n",
        "  return \" \".join(lines[:line_count]) + \" \""
      ],
      "execution_count": 0,
      "outputs": []
    },
    {
      "cell_type": "code",
      "metadata": {
        "id": "12t_AkPUfVeV",
        "colab_type": "code",
        "colab": {}
      },
      "source": [
        "# From reference, seeds with spaces always, constant batch size, collect probabilities instead of generating text\n",
        "\n",
        "def get_char_probabilites(prediction_model, test_text):\n",
        "  # We seed the model with our initial string, copied BATCH_SIZE times\n",
        "  seed_txt = \" \"\n",
        "  seed = transform(seed_txt)\n",
        "  seed = np.repeat(np.expand_dims(seed, 0), 1, axis=0)\n",
        "\n",
        "  test = transform(test_text)\n",
        "\n",
        "  # First, run the seed forward to prime the state of the model.\n",
        "  prediction_model.reset_states()\n",
        "  for i in range(len(seed_txt) - 1):\n",
        "    prediction_model.predict(seed[:, i:i + 1])\n",
        "\n",
        "  # Now we can accumulate predictions!\n",
        "  probabilities = []\n",
        "  for i, codepoint in enumerate(test):\n",
        "    last_word = [np.repeat(test[i-1], 1, axis=0)] if i > 0 else seed[:, -1:]\n",
        "    next_probits = prediction_model.predict(last_word)[:, 0, :]\n",
        "\n",
        "    # get this chars probability from the distribution\n",
        "    probabilities.append(next_probits[0][codepoint])\n",
        "\n",
        "  return probabilities"
      ],
      "execution_count": 0,
      "outputs": []
    },
    {
      "cell_type": "markdown",
      "metadata": {
        "id": "zhE7aEE4-oUK",
        "colab_type": "text"
      },
      "source": [
        "## Find word unusuality\n",
        "\n",
        "Let $p_i$ be the probability of the $i$-th character of a word of length $n$ as predicted by the model. Then the unusuality of an entire word is:\n",
        "\n",
        "$$-\\sqrt{n}\\log\\left(\\prod_{i=1}^{n} p_i\\right)$$\n",
        "\n",
        "which is equal to:\n",
        "\n",
        "$$-\\sqrt{n}\\sum_{i=1}^{n} \\log\\left(p_i\\right)$$\n"
      ]
    },
    {
      "cell_type": "code",
      "metadata": {
        "id": "2-nLNoaxos0W",
        "colab_type": "code",
        "colab": {}
      },
      "source": [
        "def standard_unusuality_measure(char_probs):\n",
        "  product = 1\n",
        "  for p in char_probs:\n",
        "    product *= p\n",
        "  return -math.log(product) * math.sqrt(len(char_probs))\n",
        "\n",
        "def get_word_probs(test_text, probabilities, measure=standard_unusuality_measure):\n",
        "  total_p = 1\n",
        "  word = \"\"\n",
        "\n",
        "  words = []\n",
        "  word_probs = []\n",
        "  char_probs = []\n",
        "\n",
        "  for i, (c, p) in enumerate(zip(test_text, probabilities)):\n",
        "    if c.isalpha():\n",
        "      total_p *= p\n",
        "      word += c\n",
        "      char_probs.append(p)\n",
        "    elif len(word) > 0:\n",
        "      words.append(word)\n",
        "      word_probs.append(measure(char_probs))\n",
        "      total_p = 1\n",
        "      word = \"\"\n",
        "      char_probs = []\n",
        "  \n",
        "  return words, np.nan_to_num(word_probs)"
      ],
      "execution_count": 0,
      "outputs": []
    },
    {
      "cell_type": "markdown",
      "metadata": {
        "id": "mGtzt2ZAy-At",
        "colab_type": "text"
      },
      "source": [
        "Find the distributions of scores on some example sentences."
      ]
    },
    {
      "cell_type": "code",
      "metadata": {
        "id": "LF1iMqQNzBZP",
        "colab_type": "code",
        "outputId": "057d7045-50ba-4360-93c2-530d6bff0b88",
        "colab": {
          "base_uri": "https://localhost:8080/",
          "height": 1000
        }
      },
      "source": [
        "test_texts = [\n",
        "  \"Ich habe dir die gedownloadete Datei gesendet.\",\n",
        "  \"Ein Satz in nur einer Sprache.\",\n",
        "  \"Mit einer anderen Algorithmenkombination sollte dies einfacher werden.\"\n",
        "]\n",
        "\n",
        "for _ in range(2):\n",
        "  test_texts.append(get_random_text(\"deu\", line_count=1))\n",
        "\n",
        "sent_data = {}\n",
        "high, low = 0, 0\n",
        "\n",
        "for sent in test_texts:\n",
        "  probabilities = get_char_probabilites(models[\"deu\"], sent)\n",
        "  words, word_probs = get_word_probs(sent, probabilities)\n",
        "  sent_data[sent] = (words, word_probs)\n",
        "\n",
        "  high = max(max(word_probs), high)\n",
        "  low = min(min(word_probs), low)\n",
        "\n",
        "for (words, word_probs) in sent_data.values():\n",
        "  x = range(len(words))\n",
        "  plt.figure(figsize=(10,2))\n",
        "  plt.plot(x, word_probs)\n",
        "  plt.xticks(x, words, rotation='vertical')\n",
        "  plt.show()"
      ],
      "execution_count": 0,
      "outputs": [
        {
          "output_type": "display_data",
          "data": {
            "image/png": "[encoded data removed]",
            "text/plain": [
              "<Figure size 720x144 with 1 Axes>"
            ]
          },
          "metadata": {
            "tags": [],
            "image/png": {
              "width": 598,
              "height": 208
            }
          }
        },
        {
          "output_type": "display_data",
          "data": {
            "image/png": "[encoded data removed]",
            "text/plain": [
              "<Figure size 720x144 with 1 Axes>"
            ]
          },
          "metadata": {
            "tags": [],
            "image/png": {
              "width": 592,
              "height": 171
            }
          }
        },
        {
          "output_type": "display_data",
          "data": {
            "image/png": "[encoded data removed]",
            "text/plain": [
              "<Figure size 720x144 with 1 Axes>"
            ]
          },
          "metadata": {
            "tags": [],
            "image/png": {
              "width": 598,
              "height": 254
            }
          }
        },
        {
          "output_type": "display_data",
          "data": {
            "image/png": "[encoded data removed]",
            "text/plain": [
              "<Figure size 720x144 with 1 Axes>"
            ]
          },
          "metadata": {
            "tags": [],
            "image/png": {
              "width": 598,
              "height": 199
            }
          }
        },
        {
          "output_type": "display_data",
          "data": {
            "image/png": "[encoded data removed]",
            "text/plain": [
              "<Figure size 720x144 with 1 Axes>"
            ]
          },
          "metadata": {
            "tags": [],
            "image/png": {
              "width": 592,
              "height": 207
            }
          }
        }
      ]
    },
    {
      "cell_type": "markdown",
      "metadata": {
        "id": "xUCBNDjmzGQj",
        "colab_type": "text"
      },
      "source": [
        "## Find unexpected words\n",
        "\n",
        "Uses the word probabilities from earlier to cluster together unusual words."
      ]
    },
    {
      "cell_type": "code",
      "metadata": {
        "id": "mdkmCSnoWqes",
        "colab_type": "code",
        "outputId": "c362921d-0151-4c67-c5c1-108dc4a9a818",
        "colab": {
          "base_uri": "https://localhost:8080/",
          "height": 196
        }
      },
      "source": [
        "def get_unexpected_words(lang, test_text):\n",
        "  test_text += \" \"\n",
        "  probabilities = get_char_probabilites(models[lang], test_text)\n",
        "  words, word_probs = get_word_probs(test_text, probabilities)\n",
        "  clustering = KMeans(n_clusters=2).fit_predict(word_probs.reshape(-1, 1))\n",
        "\n",
        "  a = [x for i, x in enumerate(word_probs) if clustering[i] == 0]\n",
        "  b = [x for i, x in enumerate(word_probs) if clustering[i] == 1]\n",
        "  target_cluster, count = Counter(clustering).most_common()[-1]\n",
        "\n",
        "  unusual = []\n",
        "  if count < len(words):\n",
        "    unusual = [x for i, x in enumerate(words) if clustering[i] == target_cluster]\n",
        "\n",
        "  return unusual\n",
        "\n",
        "def get_unusual(sent):\n",
        "  firstLang = True\n",
        "  overlap = set()\n",
        "  for lang in langs:\n",
        "    unusual = get_unexpected_words(lang, sent)\n",
        "    if firstLang:\n",
        "      overlap = set(unusual)\n",
        "      firstLang = False\n",
        "    else:\n",
        "      overlap = overlap.intersection(unusual)\n",
        "  return sorted(list(overlap)) if overlap else []\n",
        "\n",
        "for t in test_texts:\n",
        "  print(t)\n",
        "  print(\"unusual\", get_unusual(t))"
      ],
      "execution_count": 0,
      "outputs": [
        {
          "output_type": "stream",
          "text": [
            "Ich habe dir die gedownloadete Datei gesendet.\n",
            "unusual ['gedownloadete']\n",
            "Ein Satz in nur einer Sprache.\n",
            "unusual ['Satz', 'Sprache']\n",
            "Mit einer anderen Algorithmenkombination sollte dies einfacher werden.\n",
            "unusual ['Algorithmenkombination']\n",
            "Die Stadt ist durch sehr viel Baumbestand und Wälder sowie im Süden durch eine hügelige Landschaft (Ruhrberge/Baldeneysee) geprägt. \n",
            "unusual ['Baldeneysee', 'Baumbestand', 'Ruhrberge']\n",
            "Im Bereich der deutschen evangelischen Kirche ist die Gebetsrichtung zum Altar besonders in evangelisch-lutherischen Gemeinden üblich. \n",
            "unusual ['Gebetsrichtung', 'besonders', 'evangelisch', 'evangelischen', 'lutherischen', 'üblich']\n"
          ],
          "name": "stdout"
        }
      ]
    },
    {
      "cell_type": "markdown",
      "metadata": {
        "id": "qqdqhPxgzJoZ",
        "colab_type": "text"
      },
      "source": [
        "## Language ratios\n",
        "\n",
        "Find the language ratio of a word by breaking it down into its morphemes with Morfessor."
      ]
    },
    {
      "cell_type": "code",
      "metadata": {
        "id": "vO6y60LjE1Rb",
        "colab_type": "code",
        "outputId": "1be449c2-cbbf-4d63-d2c4-2d46a04bf26d",
        "colab": {
          "base_uri": "https://localhost:8080/",
          "height": 124
        }
      },
      "source": [
        "english = enchant.Dict(\"en_US\")\n",
        "german = enchant.Dict(\"de_DE\")\n",
        "\n",
        "def groupings(pieces):\n",
        "  result = []\n",
        "  for start in range(len(pieces)):\n",
        "    for end in range(len(pieces) + 1):\n",
        "      if start == end or start > end:\n",
        "        continue\n",
        "      before = \"\".join(pieces[:start])\n",
        "      during = \"\".join(pieces[start:end])\n",
        "      after = \"\".join(pieces[end:])\n",
        "      result.append((before, during, after))\n",
        "  return result\n",
        "\n",
        "def avg(a):\n",
        "  if len(a) == 0:\n",
        "    return 0\n",
        "  return sum(a) / len(a)\n",
        "\n",
        "def lang_ratio(word):\n",
        "  morph_groups = model.viterbi_nbest(word, 10)\n",
        "  eng = []\n",
        "  ger = []\n",
        "  added_morph_groups = set()\n",
        "  for group in morph_groups:\n",
        "    morphemes, score = group\n",
        "    score = 1 - (score/100)\n",
        "    for candidate in groupings(morphemes):\n",
        "      before, middle, after = candidate\n",
        "      if len(middle) <= 2 or middle in added_morph_groups:\n",
        "        continue\n",
        "      boost = len(middle) / len(word)\n",
        "      added_morph_groups.add(middle)\n",
        "      if english.check(middle):\n",
        "        eng.append(score * boost)\n",
        "      if (middle.title() == middle and middle in deu_nouns):# \\\n",
        "        ger.append(score * boost)\n",
        "  if len(ger) == 0:\n",
        "    return 0 if german.check(word) else 1\n",
        "  return avg(eng)/avg(ger)\n",
        "\n",
        "lang_ratio(\"initially\")\n",
        "\n",
        "for w in \"Brasilien abchecken clicken eingeloggt fiktiven initially\".split(\" \"):\n",
        "  print(lang_ratio(w), w)"
      ],
      "execution_count": 0,
      "outputs": [
        {
          "output_type": "stream",
          "text": [
            "0.48149587738468486 Brasilien\n",
            "1 abchecken\n",
            "1 clicken\n",
            "0 eingeloggt\n",
            "0 fiktiven\n",
            "1 initially\n"
          ],
          "name": "stdout"
        }
      ]
    },
    {
      "cell_type": "markdown",
      "metadata": {
        "id": "sM-ubpZizVTy",
        "colab_type": "text"
      },
      "source": [
        "## Find mixed language words\n",
        "\n",
        "Combines the two functions to find words that are likely to be intra-word code-switched."
      ]
    },
    {
      "cell_type": "code",
      "metadata": {
        "id": "kFP6Xe4BzVtq",
        "colab_type": "code",
        "outputId": "fdba75d7-82eb-4656-aed6-240c05bbca91",
        "colab": {
          "base_uri": "https://localhost:8080/",
          "height": 285
        }
      },
      "source": [
        "def get_mixed(sent, matrix_lang=\"deu\"):\n",
        "  unusual = get_unusual(sent)\n",
        "  if matrix_lang == \"deu\":\n",
        "    return [w for w in unusual if lang_ratio(w) >= 1]\n",
        "  elif matrix_lang == \"eng\":\n",
        "    return [w for w in unusual if lang_ratio(w) <= 1]\n",
        "  else:\n",
        "    print(\"Unknown language\", matrix_lang)\n",
        "    return []\n",
        "\n",
        "for t in test_texts:\n",
        "  print(t)\n",
        "  print(\"unusual\", get_unusual(t))\n",
        "  print(\"filtered\", get_mixed(t))"
      ],
      "execution_count": 0,
      "outputs": [
        {
          "output_type": "stream",
          "text": [
            "Ich habe dir die gedownloadete Datei gesendet.\n",
            "unusual ['gedownloadete']\n",
            "filtered ['gedownloadete']\n",
            "Ein Satz in nur einer Sprache.\n",
            "unusual ['Satz', 'Sprache']\n",
            "filtered []\n",
            "Mit einer anderen Algorithmenkombination sollte dies einfacher werden.\n",
            "unusual ['Algorithmenkombination']\n",
            "filtered ['Algorithmenkombination']\n",
            "Die Stadt ist durch sehr viel Baumbestand und Wälder sowie im Süden durch eine hügelige Landschaft (Ruhrberge/Baldeneysee) geprägt. \n",
            "unusual ['Baldeneysee', 'Baumbestand', 'Ruhrberge']\n",
            "filtered ['Baldeneysee', 'Ruhrberge']\n",
            "Im Bereich der deutschen evangelischen Kirche ist die Gebetsrichtung zum Altar besonders in evangelisch-lutherischen Gemeinden üblich. \n",
            "unusual ['Gebetsrichtung', 'besonders', 'evangelisch', 'evangelischen', 'lutherischen', 'üblich']\n",
            "filtered []\n"
          ],
          "name": "stdout"
        }
      ]
    },
    {
      "cell_type": "markdown",
      "metadata": {
        "id": "a_aQydl4q37Z",
        "colab_type": "text"
      },
      "source": [
        "## Testing\n",
        "\n",
        "We have tagged language data, let's test the model."
      ]
    },
    {
      "cell_type": "code",
      "metadata": {
        "id": "6rto5R7frBdH",
        "colab_type": "code",
        "outputId": "ed58318c-483d-4655-eb88-03eb52b9687c",
        "colab": {
          "base_uri": "https://localhost:8080/",
          "height": 35
        }
      },
      "source": [
        "is_first = True\n",
        "documents = {}\n",
        "\n",
        "with open(\"/content/drive/My Drive/Colab/words.tsv\") as tsvfile:\n",
        "  reader = csv.reader(tsvfile, delimiter='\\t', quotechar=None)\n",
        "  for row in reader:\n",
        "    if is_first:\n",
        "      is_first = False\n",
        "      continue\n",
        "    doc_id, word, tag = row[0], row[1], row[6]\n",
        "    if doc_id not in documents:\n",
        "      documents[doc_id] = {\n",
        "        \"Complete\": []\n",
        "      }\n",
        "    if tag not in documents[doc_id]:\n",
        "      documents[doc_id][tag] = []\n",
        "    documents[doc_id][tag].append(word)\n",
        "    documents[doc_id][\"Complete\"].append(word)\n",
        "\n",
        "is_first = True\n",
        "texts = {}\n",
        "\n",
        "with open(\"/content/drive/My Drive/Colab/corpora.tsv\") as tsvfile:\n",
        "  reader = csv.reader(tsvfile, delimiter='\\t', quotechar=None)\n",
        "  for row in reader:\n",
        "    if is_first:\n",
        "      is_first = False\n",
        "      continue\n",
        "    doc_id, text = row[0], row[1]\n",
        "    texts[doc_id] = text\n",
        "\n",
        "sample_text = random.choice(list(texts.items()))\n",
        "sample_doc_id = sample_text[0]\n",
        "labels = [\"Named Entity\", \"German\", \"Integrated\", \"Mixed\", \"English\", \"Other\"]\n",
        "\n",
        "sample_doc_id"
      ],
      "execution_count": 0,
      "outputs": [
        {
          "output_type": "execute_result",
          "data": {
            "text/plain": [
              "'d2z72HRS2j5QE9ot7S1Q'"
            ]
          },
          "metadata": {
            "tags": []
          },
          "execution_count": 17
        }
      ]
    },
    {
      "cell_type": "code",
      "metadata": {
        "id": "T3xSTUc3tHdm",
        "colab_type": "code",
        "outputId": "fb5f22f2-ac1e-402a-ab74-b77339e3cda0",
        "colab": {
          "base_uri": "https://localhost:8080/",
          "height": 88
        }
      },
      "source": [
        "def get_true_labels(doc_id, mixed_labels=[\"Mixed\"]):\n",
        "  true_labels = []\n",
        "  document = documents[doc_id]\n",
        "  for word in document[\"Complete\"]:\n",
        "    if word not in document[\"\"]:\n",
        "      if any([label in document and word in document[label] for label in mixed_labels]):\n",
        "        true_labels.append(1)\n",
        "      else:\n",
        "        true_labels.append(0)\n",
        "  return np.array(true_labels)\n",
        "\n",
        "get_true_labels(sample_doc_id)"
      ],
      "execution_count": 0,
      "outputs": [
        {
          "output_type": "execute_result",
          "data": {
            "text/plain": [
              "array([0, 0, 0, 0, 0, 0, 0, 0, 0, 0, 1, 0, 0, 0, 0, 0, 0, 0, 1, 0, 0, 0,\n",
              "       0, 0, 0, 0, 0, 0, 0, 0, 0, 0, 0, 0, 0, 0, 0, 0, 0, 0, 0, 0, 0, 0,\n",
              "       0, 0, 0, 0, 0, 0, 0, 0, 0, 0, 0, 0, 0, 0, 0, 0, 0, 0, 0, 0, 0, 0,\n",
              "       0, 0, 0, 0, 0, 0, 0, 0, 0, 0, 0, 0, 0, 0, 0, 0, 0, 0, 0, 0, 0, 0])"
            ]
          },
          "metadata": {
            "tags": []
          },
          "execution_count": 18
        }
      ]
    },
    {
      "cell_type": "code",
      "metadata": {
        "id": "LgNmQY99_uic",
        "colab_type": "code",
        "outputId": "3db65fab-08e2-40be-a8ce-b37ba7753632",
        "colab": {
          "base_uri": "https://localhost:8080/",
          "height": 88
        }
      },
      "source": [
        "def get_pred_labels(doc_id, predictor=get_mixed):\n",
        "  pred_labels = []\n",
        "  predicted_mixed = []\n",
        "\n",
        "  sents = re.split(r'([^0-9][:;.]\\s+)', texts[doc_id] + \" \")\n",
        "  sents = [sent.strip() for sent in sents if sent]\n",
        "  sents = [a + b for a,b in zip(sents[0::2], sents[1::2])]\n",
        "  for sent in sents:\n",
        "    if len(re.split(r'[^a-zA-Z0-9]', sent)) > 2:\n",
        "      predicted_mixed.extend(predictor(sent))\n",
        "\n",
        "  document = documents[doc_id]\n",
        "  for word in document[\"Complete\"]:\n",
        "    if word not in document[\"\"]:\n",
        "      if word in predicted_mixed:\n",
        "        pred_labels.append(1)\n",
        "      else:\n",
        "        pred_labels.append(0)\n",
        "  return np.array(pred_labels)\n",
        "\n",
        "get_pred_labels(sample_doc_id)"
      ],
      "execution_count": 0,
      "outputs": [
        {
          "output_type": "execute_result",
          "data": {
            "text/plain": [
              "array([0, 0, 0, 0, 0, 0, 0, 0, 0, 0, 1, 0, 0, 0, 0, 0, 0, 0, 1, 0, 0, 0,\n",
              "       0, 0, 1, 0, 0, 0, 0, 0, 0, 0, 0, 0, 0, 0, 0, 0, 0, 0, 0, 0, 0, 0,\n",
              "       0, 0, 0, 0, 0, 0, 0, 0, 0, 0, 0, 0, 0, 0, 0, 0, 0, 0, 0, 0, 0, 0,\n",
              "       0, 0, 0, 0, 0, 0, 0, 0, 0, 0, 0, 0, 0, 0, 0, 0, 0, 0, 0, 0, 0, 0])"
            ]
          },
          "metadata": {
            "tags": []
          },
          "execution_count": 19
        }
      ]
    },
    {
      "cell_type": "code",
      "metadata": {
        "id": "r5ac-cIMCL9Z",
        "colab_type": "code",
        "outputId": "ebf31c02-daf3-4964-bad7-df51535fb4b2",
        "colab": {
          "base_uri": "https://localhost:8080/",
          "height": 339
        }
      },
      "source": [
        "print(classification_report(\n",
        "  get_true_labels(sample_doc_id), \n",
        "  get_pred_labels(sample_doc_id), target_names=[\"Other\", \"Mixed\"]))\n",
        "\n",
        "print(classification_report(\n",
        "  get_true_labels(sample_doc_id), \n",
        "  get_pred_labels(sample_doc_id, predictor=get_unusual), target_names=[\"Other\", \"Mixed\"]))"
      ],
      "execution_count": 0,
      "outputs": [
        {
          "output_type": "stream",
          "text": [
            "              precision    recall  f1-score   support\n",
            "\n",
            "       Other       1.00      0.99      0.99        86\n",
            "       Mixed       0.67      1.00      0.80         2\n",
            "\n",
            "    accuracy                           0.99        88\n",
            "   macro avg       0.83      0.99      0.90        88\n",
            "weighted avg       0.99      0.99      0.99        88\n",
            "\n",
            "              precision    recall  f1-score   support\n",
            "\n",
            "       Other       1.00      0.90      0.94        86\n",
            "       Mixed       0.18      1.00      0.31         2\n",
            "\n",
            "    accuracy                           0.90        88\n",
            "   macro avg       0.59      0.95      0.63        88\n",
            "weighted avg       0.98      0.90      0.93        88\n",
            "\n"
          ],
          "name": "stdout"
        }
      ]
    },
    {
      "cell_type": "code",
      "metadata": {
        "id": "yjbRIuYv6_uv",
        "colab_type": "code",
        "outputId": "332d4089-85ad-4dd4-ed7b-6cd377887ff0",
        "colab": {
          "base_uri": "https://localhost:8080/",
          "height": 35
        }
      },
      "source": [
        "def get_words(doc_id):\n",
        "  document = documents[doc_id]\n",
        "  return [w for w in document[\"Complete\"] if w not in document[\"\"]]\n",
        "\n",
        "get_words(sample_doc_id)[:5]"
      ],
      "execution_count": 0,
      "outputs": [
        {
          "output_type": "execute_result",
          "data": {
            "text/plain": [
              "['In', 'diesem', 'Artikel', 'werden', 'die']"
            ]
          },
          "metadata": {
            "tags": []
          },
          "execution_count": 21
        }
      ]
    },
    {
      "cell_type": "code",
      "metadata": {
        "id": "MIaNjTErDARh",
        "colab_type": "code",
        "outputId": "3451e1aa-464a-438a-8f16-62d1c7d9fd9f",
        "colab": {
          "base_uri": "https://localhost:8080/",
          "height": 35
        }
      },
      "source": [
        "pred_mixed = {}\n",
        "pred_unusual = {}\n",
        "words = []\n",
        "\n",
        "for doc_id in tqdm(texts.keys()):\n",
        "  pred_mixed[doc_id] = get_pred_labels(doc_id)\n",
        "  pred_unusual[doc_id] = get_pred_labels(doc_id, predictor=get_unusual)\n",
        "  words.extend(get_words(doc_id))"
      ],
      "execution_count": 0,
      "outputs": [
        {
          "output_type": "stream",
          "text": [
            "100%|██████████| 88/88 [41:15<00:00, 27.36s/it]\n"
          ],
          "name": "stderr"
        }
      ]
    },
    {
      "cell_type": "markdown",
      "metadata": {
        "id": "1jqPza8JsvS_",
        "colab_type": "text"
      },
      "source": [
        "### Performance\n",
        "\n",
        "Let's get some benchmarks for our results."
      ]
    },
    {
      "cell_type": "code",
      "metadata": {
        "id": "i4x-bsePFPL9",
        "colab_type": "code",
        "outputId": "c8ace58a-907e-443a-a2dc-dad0ed5b6609",
        "colab": {
          "base_uri": "https://localhost:8080/",
          "height": 374
        }
      },
      "source": [
        "for pred in [pred_unusual, pred_mixed]:\n",
        "  all_pred = []\n",
        "  all_true = []\n",
        "\n",
        "  for doc_id in texts.keys():\n",
        "    all_pred.extend(pred[doc_id]) # cached get_pred_labels(doc_id)\n",
        "    all_true.extend(get_true_labels(doc_id))\n",
        "\n",
        "  print(\"scored\", round(f1_score(all_true, all_pred), 4))\n",
        "  print(classification_report(all_true, all_pred, target_names=[\"Other\", \"Mixed\"], digits=4))\n"
      ],
      "execution_count": 0,
      "outputs": [
        {
          "output_type": "stream",
          "text": [
            "scored 0.1084\n",
            "              precision    recall  f1-score   support\n",
            "\n",
            "       Other     0.9973    0.8529    0.9195      8371\n",
            "       Mixed     0.0581    0.8000    0.1084        95\n",
            "\n",
            "    accuracy                         0.8524      8466\n",
            "   macro avg     0.5277    0.8265    0.5140      8466\n",
            "weighted avg     0.9868    0.8524    0.9104      8466\n",
            "\n",
            "scored 0.2415\n",
            "              precision    recall  f1-score   support\n",
            "\n",
            "       Other     0.9916    0.9896    0.9906      8371\n",
            "       Mixed     0.2232    0.2632    0.2415        95\n",
            "\n",
            "    accuracy                         0.9815      8466\n",
            "   macro avg     0.6074    0.6264    0.6161      8466\n",
            "weighted avg     0.9830    0.9815    0.9822      8466\n",
            "\n"
          ],
          "name": "stdout"
        }
      ]
    },
    {
      "cell_type": "markdown",
      "metadata": {
        "id": "5dvcpHX_srSH",
        "colab_type": "text"
      },
      "source": [
        "### Inter-annotator Agreement\n",
        "\n",
        "Those results didn't look good. Let's see how well the three annotators agreed with each other."
      ]
    },
    {
      "cell_type": "code",
      "metadata": {
        "id": "pgh3YNp4oNxF",
        "colab_type": "code",
        "outputId": "f7a5694e-9856-483a-8d1c-e71bc5b86769",
        "colab": {
          "base_uri": "https://localhost:8080/",
          "height": 35
        }
      },
      "source": [
        "is_first = True\n",
        "labels = []\n",
        "line = 0\n",
        "\n",
        "with open(\"/content/drive/My Drive/Colab/words.tsv\") as tsvfile:\n",
        "  reader = csv.reader(tsvfile, delimiter='\\t', quotechar=None)\n",
        "  for row in reader:\n",
        "    if is_first or not row[5]:\n",
        "      is_first = False\n",
        "      continue\n",
        "    line += 1\n",
        "    for i in range(3):\n",
        "      label = row[i + 2]\n",
        "      labels.append((i, line, label))\n",
        "\n",
        "annotations = AnnotationTask(data=labels)\n",
        "annotations.multi_kappa(), annotations.alpha()"
      ],
      "execution_count": 0,
      "outputs": [
        {
          "output_type": "execute_result",
          "data": {
            "text/plain": [
              "(0.6712313312558054, 0.6707419527532306)"
            ]
          },
          "metadata": {
            "tags": []
          },
          "execution_count": 24
        }
      ]
    },
    {
      "cell_type": "markdown",
      "metadata": {
        "id": "e1cRndk57gad",
        "colab_type": "text"
      },
      "source": [
        "### Errors\n",
        "\n",
        "What were common errors?"
      ]
    },
    {
      "cell_type": "code",
      "metadata": {
        "id": "6oThsbnz7kAb",
        "colab_type": "code",
        "outputId": "16b8a37c-4c26-49af-aa56-9ffa7e8c9122",
        "colab": {
          "base_uri": "https://localhost:8080/"
        }
      },
      "source": [
        "all_pred = []\n",
        "all_true = []\n",
        "\n",
        "for doc_id in texts.keys():\n",
        "  all_pred.extend(pred_mixed[doc_id]) # cached get_pred_labels(doc_id)\n",
        "  all_true.extend(get_true_labels(doc_id))\n",
        "\n",
        "errors = Counter()\n",
        "\n",
        "for word, pred, true in zip(words, all_pred, all_true):\n",
        "  n = len(word)\n",
        "  if pred != true:\n",
        "    errors[word] += 1\n",
        "\n",
        "for word, count in errors.most_common(10):\n",
        "  print(count, word)"
      ],
      "execution_count": 0,
      "outputs": [
        {
          "output_type": "stream",
          "text": [
            "8 PowerShell\n",
            "5 Azure\n",
            "5 App\n",
            "4 UMSCHALT\n",
            "4 Funktionscode\n",
            "4 Schnellstart\n",
            "3 Plattformfeatures\n",
            "3 Hostkonfigurationsdatei\n",
            "3 Entwicklungscomputer\n",
            "3 Konfigurationstool\n"
          ],
          "name": "stdout"
        }
      ]
    }
  ]
}